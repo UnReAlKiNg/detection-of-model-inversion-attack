{
 "cells": [
  {
   "cell_type": "code",
   "execution_count": 1,
   "metadata": {},
   "outputs": [
    {
     "name": "stderr",
     "output_type": "stream",
     "text": [
      "/var/folders/j8/287qv_h962sgjzzwzh6whkpm0000gn/T/ipykernel_11141/953260573.py:11: DeprecationWarning: Using or importing the ABCs from 'collections' instead of from 'collections.abc' is deprecated since Python 3.3, and in 3.10 it will stop working\n",
      "  from collections import Sequence\n"
     ]
    }
   ],
   "source": [
    "import os\n",
    "import pandas as pd\n",
    "import numpy as np\n",
    "from PIL import Image\n",
    "from glob import glob\n",
    "from tqdm import tqdm\n",
    "from pprint import pprint\n",
    "import matplotlib.pyplot as plt\n",
    "import time\n",
    "\n",
    "from collections import Sequence\n",
    "# %matplotlib inline\n",
    "import cv2\n",
    "\n",
    "import os.path as osp\n",
    "import matplotlib.cm as cm\n",
    "\n",
    "import torchvision\n",
    "from torchvision import transforms\n",
    "from torchvision import models\n",
    "import torch\n",
    "from torch.autograd import Variable\n",
    "import torch.nn as nn\n",
    "from torch.optim import lr_scheduler\n",
    "from torch import optim\n",
    "from torchvision.utils import make_grid\n",
    "from torch.utils.data import Dataset\n",
    "from torch.nn import functional as F"
   ]
  },
  {
   "cell_type": "code",
   "execution_count": 2,
   "metadata": {},
   "outputs": [
    {
     "name": "stderr",
     "output_type": "stream",
     "text": [
      "<frozen importlib._bootstrap>:228: RuntimeWarning: scipy._lib.messagestream.MessageStream size changed, may indicate binary incompatibility. Expected 56 from C header, got 64 from PyObject\n"
     ]
    }
   ],
   "source": [
    "from art.attacks.inference import model_inversion\n",
    "from art.estimators.classification import PyTorchClassifier\n",
    "from art.utils import load_cifar10"
   ]
  },
  {
   "cell_type": "code",
   "execution_count": 3,
   "metadata": {},
   "outputs": [],
   "source": [
    "import ssl\n",
    "ssl._create_default_https_context = ssl._create_unverified_context"
   ]
  },
  {
   "cell_type": "code",
   "execution_count": 4,
   "metadata": {},
   "outputs": [],
   "source": [
    "batch_size = 32\n",
    "learning_rate = 0.001\n",
    "num_epochs = 5"
   ]
  },
  {
   "cell_type": "code",
   "execution_count": 5,
   "metadata": {},
   "outputs": [
    {
     "name": "stdout",
     "output_type": "stream",
     "text": [
      "(50000, 32, 32, 3)\n",
      "0.0\n",
      "1.0\n"
     ]
    }
   ],
   "source": [
    "# Step 1: Load the cifar10 dataset\n",
    "\n",
    "(x_train, y_train), (x_test, y_test), min_pixel_value, max_pixel_value = load_cifar10()\n",
    "print(x_train.shape)\n",
    "print(min_pixel_value)\n",
    "print(max_pixel_value)"
   ]
  },
  {
   "cell_type": "code",
   "execution_count": 6,
   "metadata": {},
   "outputs": [
    {
     "data": {
      "text/plain": [
       "<matplotlib.image.AxesImage at 0x2905185e0>"
      ]
     },
     "execution_count": 6,
     "metadata": {},
     "output_type": "execute_result"
    },
    {
     "data": {
      "image/png": "[encoded data removed]",
      "image/svg+xml": "<?xml version=\"1.0\" encoding=\"utf-8\" standalone=\"no\"?>\n<!DOCTYPE svg PUBLIC \"-//W3C//DTD SVG 1.1//EN\"\n  \"http://www.w3.org/Graphics/SVG/1.1/DTD/svg11.dtd\">\n<svg xmlns:xlink=\"http://www.w3.org/1999/xlink\" width=\"251.565pt\" height=\"248.919844pt\" viewBox=\"0 0 251.565 248.919844\" xmlns=\"http://www.w3.org/2000/svg\" version=\"1.1\">\n <metadata>\n  <rdf:RDF xmlns:dc=\"http://purl.org/dc/elements/1.1/\" xmlns:cc=\"http://creativecommons.org/ns#\" xmlns:rdf=\"http://www.w3.org/1999/02/22-rdf-syntax-ns#\">\n   <cc:Work>\n    <dc:type rdf:resource=\"http://purl.org/dc/dcmitype/StillImage\"/>\n    <dc:date>2023-03-01T11:19:42.916005</dc:date>\n    <dc:format>image/svg+xml</dc:format>\n    <dc:creator>\n     <cc:Agent>\n      <dc:title>Matplotlib v3.5.2, https://matplotlib.org/</dc:title>\n     </cc:Agent>\n    </dc:creator>\n   </cc:Work>\n  </rdf:RDF>\n </metadata>\n <defs>\n  <style type=\"text/css\">*{stroke-linejoin: round; stroke-linecap: butt}</style>\n </defs>\n <g id=\"figure_1\">\n  <g id=\"patch_1\">\n   <path d=\"M 0 248.919844 \nL 251.565 248.919844 \nL 251.565 0 \nL 0 0 \nL 0 248.919844 \nz\n\" style=\"fill: none\"/>\n  </g>\n  <g id=\"axes_1\">\n   <g id=\"patch_2\">\n    <path d=\"M 26.925 225.041719 \nL 244.365 225.041719 \nL 244.365 7.601719 \nL 26.925 7.601719 \nz\n\" style=\"fill: #ffffff\"/>\n   </g>\n   <g clip-path=\"url(#p9fed5ca8a2)\">\n    <image xlink:href=\"data:image/png;base64,\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\" id=\"image96774db862\" transform=\"scale(1 -1)translate(0 -218)\" x=\"26.925\" y=\"-7.041719\" width=\"218\" height=\"218\"/>\n   </g>\n   <g id=\"matplotlib.axis_1\">\n    <g id=\"xtick_1\">\n     <g id=\"line2d_1\">\n      <defs>\n       <path id=\"me03a066a82\" d=\"M 0 0 \nL 0 3.5 \n\" style=\"stroke: #000000; stroke-width: 0.8\"/>\n      </defs>\n      <g>\n       <use xlink:href=\"#me03a066a82\" x=\"30.3225\" y=\"225.041719\" style=\"stroke: #000000; stroke-width: 0.8\"/>\n      </g>\n     </g>\n     <g id=\"text_1\">\n      <!-- 0 -->\n      <g transform=\"translate(27.14125 239.640156)scale(0.1 -0.1)\">\n       <defs>\n        <path id=\"DejaVuSans-30\" d=\"M 2034 4250 \nQ 1547 4250 1301 3770 \nQ 1056 3291 1056 2328 \nQ 1056 1369 1301 889 \nQ 1547 409 2034 409 \nQ 2525 409 2770 889 \nQ 3016 1369 3016 2328 \nQ 3016 3291 2770 3770 \nQ 2525 4250 2034 4250 \nz\nM 2034 4750 \nQ 2819 4750 3233 4129 \nQ 3647 3509 3647 2328 \nQ 3647 1150 3233 529 \nQ 2819 -91 2034 -91 \nQ 1250 -91 836 529 \nQ 422 1150 422 2328 \nQ 422 3509 836 4129 \nQ 1250 4750 2034 4750 \nz\n\" transform=\"scale(0.015625)\"/>\n       </defs>\n       <use xlink:href=\"#DejaVuSans-30\"/>\n      </g>\n     </g>\n    </g>\n    <g id=\"xtick_2\">\n     <g id=\"line2d_2\">\n      <g>\n       <use xlink:href=\"#me03a066a82\" x=\"64.2975\" y=\"225.041719\" style=\"stroke: #000000; stroke-width: 0.8\"/>\n      </g>\n     </g>\n     <g id=\"text_2\">\n      <!-- 5 -->\n      <g transform=\"translate(61.11625 239.640156)scale(0.1 -0.1)\">\n       <defs>\n        <path id=\"DejaVuSans-35\" d=\"M 691 4666 \nL 3169 4666 \nL 3169 4134 \nL 1269 4134 \nL 1269 2991 \nQ 1406 3038 1543 3061 \nQ 1681 3084 1819 3084 \nQ 2600 3084 3056 2656 \nQ 3513 2228 3513 1497 \nQ 3513 744 3044 326 \nQ 2575 -91 1722 -91 \nQ 1428 -91 1123 -41 \nQ 819 9 494 109 \nL 494 744 \nQ 775 591 1075 516 \nQ 1375 441 1709 441 \nQ 2250 441 2565 725 \nQ 2881 1009 2881 1497 \nQ 2881 1984 2565 2268 \nQ 2250 2553 1709 2553 \nQ 1456 2553 1204 2497 \nQ 953 2441 691 2322 \nL 691 4666 \nz\n\" transform=\"scale(0.015625)\"/>\n       </defs>\n       <use xlink:href=\"#DejaVuSans-35\"/>\n      </g>\n     </g>\n    </g>\n    <g id=\"xtick_3\">\n     <g id=\"line2d_3\">\n      <g>\n       <use xlink:href=\"#me03a066a82\" x=\"98.2725\" y=\"225.041719\" style=\"stroke: #000000; stroke-width: 0.8\"/>\n      </g>\n     </g>\n     <g id=\"text_3\">\n      <!-- 10 -->\n      <g transform=\"translate(91.91 239.640156)scale(0.1 -0.1)\">\n       <defs>\n        <path id=\"DejaVuSans-31\" d=\"M 794 531 \nL 1825 531 \nL 1825 4091 \nL 703 3866 \nL 703 4441 \nL 1819 4666 \nL 2450 4666 \nL 2450 531 \nL 3481 531 \nL 3481 0 \nL 794 0 \nL 794 531 \nz\n\" transform=\"scale(0.015625)\"/>\n       </defs>\n       <use xlink:href=\"#DejaVuSans-31\"/>\n       <use xlink:href=\"#DejaVuSans-30\" x=\"63.623047\"/>\n      </g>\n     </g>\n    </g>\n    <g id=\"xtick_4\">\n     <g id=\"line2d_4\">\n      <g>\n       <use xlink:href=\"#me03a066a82\" x=\"132.2475\" y=\"225.041719\" style=\"stroke: #000000; stroke-width: 0.8\"/>\n      </g>\n     </g>\n     <g id=\"text_4\">\n      <!-- 15 -->\n      <g transform=\"translate(125.885 239.640156)scale(0.1 -0.1)\">\n       <use xlink:href=\"#DejaVuSans-31\"/>\n       <use xlink:href=\"#DejaVuSans-35\" x=\"63.623047\"/>\n      </g>\n     </g>\n    </g>\n    <g id=\"xtick_5\">\n     <g id=\"line2d_5\">\n      <g>\n       <use xlink:href=\"#me03a066a82\" x=\"166.2225\" y=\"225.041719\" style=\"stroke: #000000; stroke-width: 0.8\"/>\n      </g>\n     </g>\n     <g id=\"text_5\">\n      <!-- 20 -->\n      <g transform=\"translate(159.86 239.640156)scale(0.1 -0.1)\">\n       <defs>\n        <path id=\"DejaVuSans-32\" d=\"M 1228 531 \nL 3431 531 \nL 3431 0 \nL 469 0 \nL 469 531 \nQ 828 903 1448 1529 \nQ 2069 2156 2228 2338 \nQ 2531 2678 2651 2914 \nQ 2772 3150 2772 3378 \nQ 2772 3750 2511 3984 \nQ 2250 4219 1831 4219 \nQ 1534 4219 1204 4116 \nQ 875 4013 500 3803 \nL 500 4441 \nQ 881 4594 1212 4672 \nQ 1544 4750 1819 4750 \nQ 2544 4750 2975 4387 \nQ 3406 4025 3406 3419 \nQ 3406 3131 3298 2873 \nQ 3191 2616 2906 2266 \nQ 2828 2175 2409 1742 \nQ 1991 1309 1228 531 \nz\n\" transform=\"scale(0.015625)\"/>\n       </defs>\n       <use xlink:href=\"#DejaVuSans-32\"/>\n       <use xlink:href=\"#DejaVuSans-30\" x=\"63.623047\"/>\n      </g>\n     </g>\n    </g>\n    <g id=\"xtick_6\">\n     <g id=\"line2d_6\">\n      <g>\n       <use xlink:href=\"#me03a066a82\" x=\"200.1975\" y=\"225.041719\" style=\"stroke: #000000; stroke-width: 0.8\"/>\n      </g>\n     </g>\n     <g id=\"text_6\">\n      <!-- 25 -->\n      <g transform=\"translate(193.835 239.640156)scale(0.1 -0.1)\">\n       <use xlink:href=\"#DejaVuSans-32\"/>\n       <use xlink:href=\"#DejaVuSans-35\" x=\"63.623047\"/>\n      </g>\n     </g>\n    </g>\n    <g id=\"xtick_7\">\n     <g id=\"line2d_7\">\n      <g>\n       <use xlink:href=\"#me03a066a82\" x=\"234.1725\" y=\"225.041719\" style=\"stroke: #000000; stroke-width: 0.8\"/>\n      </g>\n     </g>\n     <g id=\"text_7\">\n      <!-- 30 -->\n      <g transform=\"translate(227.81 239.640156)scale(0.1 -0.1)\">\n       <defs>\n        <path id=\"DejaVuSans-33\" d=\"M 2597 2516 \nQ 3050 2419 3304 2112 \nQ 3559 1806 3559 1356 \nQ 3559 666 3084 287 \nQ 2609 -91 1734 -91 \nQ 1441 -91 1130 -33 \nQ 819 25 488 141 \nL 488 750 \nQ 750 597 1062 519 \nQ 1375 441 1716 441 \nQ 2309 441 2620 675 \nQ 2931 909 2931 1356 \nQ 2931 1769 2642 2001 \nQ 2353 2234 1838 2234 \nL 1294 2234 \nL 1294 2753 \nL 1863 2753 \nQ 2328 2753 2575 2939 \nQ 2822 3125 2822 3475 \nQ 2822 3834 2567 4026 \nQ 2313 4219 1838 4219 \nQ 1578 4219 1281 4162 \nQ 984 4106 628 3988 \nL 628 4550 \nQ 988 4650 1302 4700 \nQ 1616 4750 1894 4750 \nQ 2613 4750 3031 4423 \nQ 3450 4097 3450 3541 \nQ 3450 3153 3228 2886 \nQ 3006 2619 2597 2516 \nz\n\" transform=\"scale(0.015625)\"/>\n       </defs>\n       <use xlink:href=\"#DejaVuSans-33\"/>\n       <use xlink:href=\"#DejaVuSans-30\" x=\"63.623047\"/>\n      </g>\n     </g>\n    </g>\n   </g>\n   <g id=\"matplotlib.axis_2\">\n    <g id=\"ytick_1\">\n     <g id=\"line2d_8\">\n      <defs>\n       <path id=\"m6787bf99a4\" d=\"M 0 0 \nL -3.5 0 \n\" style=\"stroke: #000000; stroke-width: 0.8\"/>\n      </defs>\n      <g>\n       <use xlink:href=\"#m6787bf99a4\" x=\"26.925\" y=\"10.999219\" style=\"stroke: #000000; stroke-width: 0.8\"/>\n      </g>\n     </g>\n     <g id=\"text_8\">\n      <!-- 0 -->\n      <g transform=\"translate(13.5625 14.798437)scale(0.1 -0.1)\">\n       <use xlink:href=\"#DejaVuSans-30\"/>\n      </g>\n     </g>\n    </g>\n    <g id=\"ytick_2\">\n     <g id=\"line2d_9\">\n      <g>\n       <use xlink:href=\"#m6787bf99a4\" x=\"26.925\" y=\"44.974219\" style=\"stroke: #000000; stroke-width: 0.8\"/>\n      </g>\n     </g>\n     <g id=\"text_9\">\n      <!-- 5 -->\n      <g transform=\"translate(13.5625 48.773437)scale(0.1 -0.1)\">\n       <use xlink:href=\"#DejaVuSans-35\"/>\n      </g>\n     </g>\n    </g>\n    <g id=\"ytick_3\">\n     <g id=\"line2d_10\">\n      <g>\n       <use xlink:href=\"#m6787bf99a4\" x=\"26.925\" y=\"78.949219\" style=\"stroke: #000000; stroke-width: 0.8\"/>\n      </g>\n     </g>\n     <g id=\"text_10\">\n      <!-- 10 -->\n      <g transform=\"translate(7.2 82.748437)scale(0.1 -0.1)\">\n       <use xlink:href=\"#DejaVuSans-31\"/>\n       <use xlink:href=\"#DejaVuSans-30\" x=\"63.623047\"/>\n      </g>\n     </g>\n    </g>\n    <g id=\"ytick_4\">\n     <g id=\"line2d_11\">\n      <g>\n       <use xlink:href=\"#m6787bf99a4\" x=\"26.925\" y=\"112.924219\" style=\"stroke: #000000; stroke-width: 0.8\"/>\n      </g>\n     </g>\n     <g id=\"text_11\">\n      <!-- 15 -->\n      <g transform=\"translate(7.2 116.723437)scale(0.1 -0.1)\">\n       <use xlink:href=\"#DejaVuSans-31\"/>\n       <use xlink:href=\"#DejaVuSans-35\" x=\"63.623047\"/>\n      </g>\n     </g>\n    </g>\n    <g id=\"ytick_5\">\n     <g id=\"line2d_12\">\n      <g>\n       <use xlink:href=\"#m6787bf99a4\" x=\"26.925\" y=\"146.899219\" style=\"stroke: #000000; stroke-width: 0.8\"/>\n      </g>\n     </g>\n     <g id=\"text_12\">\n      <!-- 20 -->\n      <g transform=\"translate(7.2 150.698437)scale(0.1 -0.1)\">\n       <use xlink:href=\"#DejaVuSans-32\"/>\n       <use xlink:href=\"#DejaVuSans-30\" x=\"63.623047\"/>\n      </g>\n     </g>\n    </g>\n    <g id=\"ytick_6\">\n     <g id=\"line2d_13\">\n      <g>\n       <use xlink:href=\"#m6787bf99a4\" x=\"26.925\" y=\"180.874219\" style=\"stroke: #000000; stroke-width: 0.8\"/>\n      </g>\n     </g>\n     <g id=\"text_13\">\n      <!-- 25 -->\n      <g transform=\"translate(7.2 184.673437)scale(0.1 -0.1)\">\n       <use xlink:href=\"#DejaVuSans-32\"/>\n       <use xlink:href=\"#DejaVuSans-35\" x=\"63.623047\"/>\n      </g>\n     </g>\n    </g>\n    <g id=\"ytick_7\">\n     <g id=\"line2d_14\">\n      <g>\n       <use xlink:href=\"#m6787bf99a4\" x=\"26.925\" y=\"214.849219\" style=\"stroke: #000000; stroke-width: 0.8\"/>\n      </g>\n     </g>\n     <g id=\"text_14\">\n      <!-- 30 -->\n      <g transform=\"translate(7.2 218.648437)scale(0.1 -0.1)\">\n       <use xlink:href=\"#DejaVuSans-33\"/>\n       <use xlink:href=\"#DejaVuSans-30\" x=\"63.623047\"/>\n      </g>\n     </g>\n    </g>\n   </g>\n   <g id=\"patch_3\">\n    <path d=\"M 26.925 225.041719 \nL 26.925 7.601719 \n\" style=\"fill: none; stroke: #000000; stroke-width: 0.8; stroke-linejoin: miter; stroke-linecap: square\"/>\n   </g>\n   <g id=\"patch_4\">\n    <path d=\"M 244.365 225.041719 \nL 244.365 7.601719 \n\" style=\"fill: none; stroke: #000000; stroke-width: 0.8; stroke-linejoin: miter; stroke-linecap: square\"/>\n   </g>\n   <g id=\"patch_5\">\n    <path d=\"M 26.925 225.041719 \nL 244.365 225.041719 \n\" style=\"fill: none; stroke: #000000; stroke-width: 0.8; stroke-linejoin: miter; stroke-linecap: square\"/>\n   </g>\n   <g id=\"patch_6\">\n    <path d=\"M 26.925 7.601719 \nL 244.365 7.601719 \n\" style=\"fill: none; stroke: #000000; stroke-width: 0.8; stroke-linejoin: miter; stroke-linecap: square\"/>\n   </g>\n  </g>\n </g>\n <defs>\n  <clipPath id=\"p9fed5ca8a2\">\n   <rect x=\"26.925\" y=\"7.601719\" width=\"217.44\" height=\"217.44\"/>\n  </clipPath>\n </defs>\n</svg>\n",
      "text/plain": [
       "<Figure size 432x288 with 1 Axes>"
      ]
     },
     "metadata": {
      "needs_background": "light"
     },
     "output_type": "display_data"
    }
   ],
   "source": [
    "plt.imshow(np.mean(x_train, axis=0))"
   ]
  },
  {
   "cell_type": "code",
   "execution_count": 7,
   "metadata": {},
   "outputs": [
    {
     "name": "stdout",
     "output_type": "stream",
     "text": [
      "(50000, 3, 32, 32) (10000, 3, 32, 32)\n"
     ]
    }
   ],
   "source": [
    "# Step 1a: Swap axes to PyTorch's NCHW format\n",
    "\n",
    "x_train = np.transpose(x_train, (0, 3, 1, 2)).astype(np.float32)\n",
    "x_test = np.transpose(x_test, (0, 3, 1, 2)).astype(np.float32)\n",
    "print(x_train.shape,x_test.shape)"
   ]
  },
  {
   "cell_type": "code",
   "execution_count": 8,
   "metadata": {},
   "outputs": [
    {
     "name": "stdout",
     "output_type": "stream",
     "text": [
      "VGG(\n",
      "  (features): Sequential(\n",
      "    (0): Conv2d(3, 64, kernel_size=(3, 3), stride=(1, 1), padding=(1, 1))\n",
      "    (1): ReLU(inplace=True)\n",
      "    (2): MaxPool2d(kernel_size=2, stride=2, padding=0, dilation=1, ceil_mode=False)\n",
      "    (3): Conv2d(64, 128, kernel_size=(3, 3), stride=(1, 1), padding=(1, 1))\n",
      "    (4): ReLU(inplace=True)\n",
      "    (5): MaxPool2d(kernel_size=2, stride=2, padding=0, dilation=1, ceil_mode=False)\n",
      "    (6): Conv2d(128, 256, kernel_size=(3, 3), stride=(1, 1), padding=(1, 1))\n",
      "    (7): ReLU(inplace=True)\n",
      "    (8): Conv2d(256, 256, kernel_size=(3, 3), stride=(1, 1), padding=(1, 1))\n",
      "    (9): ReLU(inplace=True)\n",
      "    (10): MaxPool2d(kernel_size=2, stride=2, padding=0, dilation=1, ceil_mode=False)\n",
      "    (11): Conv2d(256, 512, kernel_size=(3, 3), stride=(1, 1), padding=(1, 1))\n",
      "    (12): ReLU(inplace=True)\n",
      "    (13): Conv2d(512, 512, kernel_size=(3, 3), stride=(1, 1), padding=(1, 1))\n",
      "    (14): ReLU(inplace=True)\n",
      "    (15): MaxPool2d(kernel_size=2, stride=2, padding=0, dilation=1, ceil_mode=False)\n",
      "    (16): Conv2d(512, 512, kernel_size=(3, 3), stride=(1, 1), padding=(1, 1))\n",
      "    (17): ReLU(inplace=True)\n",
      "    (18): Conv2d(512, 512, kernel_size=(3, 3), stride=(1, 1), padding=(1, 1))\n",
      "    (19): ReLU(inplace=True)\n",
      "    (20): MaxPool2d(kernel_size=2, stride=2, padding=0, dilation=1, ceil_mode=False)\n",
      "  )\n",
      "  (avgpool): AdaptiveAvgPool2d(output_size=(7, 7))\n",
      "  (classifier): Sequential(\n",
      "    (0): Linear(in_features=25088, out_features=4096, bias=True)\n",
      "    (1): ReLU(inplace=True)\n",
      "    (2): Dropout(p=0.5, inplace=False)\n",
      "    (3): Linear(in_features=4096, out_features=4096, bias=True)\n",
      "    (4): ReLU(inplace=True)\n",
      "    (5): Dropout(p=0.5, inplace=False)\n",
      "    (6): Linear(in_features=4096, out_features=10, bias=True)\n",
      "    (7): Softmax(dim=1)\n",
      "  )\n",
      ")\n"
     ]
    }
   ],
   "source": [
    "device = torch.device('mps')\n",
    "num_classes = 10\n",
    "\n",
    "# resnet = torchvision.models.resnet18(pretrained=True)\n",
    "# resnet.fc = nn.Linear(512,num_classes)\n",
    "# resnet.to(device)\n",
    "\n",
    "vgg11 = torch.load(\"/Users/songjunzhe/Desktop/python/ml_attack/myvgg11_cifar10_test_82_0300.pt\")\n",
    "vgg11.classifier.add_module(\"7\", nn.Softmax(dim=1))\n",
    "vgg11.eval()\n",
    "vgg11.to(device)\n",
    "print(vgg11)\n",
    "\n",
    "criterion = nn.CrossEntropyLoss()\n",
    "optimizer = optim.SGD(vgg11.parameters(), lr=0.01, weight_decay=5e-3, momentum=0.9)\n",
    "\n",
    "# step_lr_schedular = lr_scheduler.StepLR(optimizer, step_size = 4, gamma = 0.5)\n"
   ]
  },
  {
   "cell_type": "code",
   "execution_count": 9,
   "metadata": {},
   "outputs": [],
   "source": [
    "classifier = PyTorchClassifier(\n",
    "    model = vgg11,\n",
    "    clip_values = (min_pixel_value,max_pixel_value),\n",
    "    loss = criterion,\n",
    "    optimizer = optimizer,\n",
    "    input_shape = (3, 32, 32),\n",
    "    nb_classes = 10,\n",
    ")"
   ]
  },
  {
   "cell_type": "code",
   "execution_count": 10,
   "metadata": {},
   "outputs": [],
   "source": [
    "#classifier.fit(x_train, y_train, batch_size=256, nb_epochs=5)"
   ]
  },
  {
   "cell_type": "code",
   "execution_count": 11,
   "metadata": {},
   "outputs": [],
   "source": [
    "# Step 5: Create the attack object\n",
    "\n",
    "my_attack = model_inversion.MIFace(classifier, max_iter=20000, threshold=1.)"
   ]
  },
  {
   "cell_type": "code",
   "execution_count": 12,
   "metadata": {},
   "outputs": [
    {
     "data": {
      "text/plain": [
       "array([0])"
      ]
     },
     "execution_count": 12,
     "metadata": {},
     "output_type": "execute_result"
    }
   ],
   "source": [
    "# Step 6: Create an array of the classes to be attacked\n",
    "\n",
    "# y_all = np.arange(10)\n",
    "# y_all\n",
    "y_all = np.array([0])\n",
    "y_all"
   ]
  },
  {
   "cell_type": "code",
   "execution_count": 13,
   "metadata": {},
   "outputs": [],
   "source": [
    "# We will experiment with a number of different initializations:\n",
    "\n",
    "# x_init_average = np.zeros((10, 3, 32, 32),dtype=np.float32) + np.mean(x_train, axis=0)\n",
    "x_init_average = np.zeros((1, 3, 32, 32), dtype=np.float32) + np.mean(x_train, axis=0)\n"
   ]
  },
  {
   "cell_type": "code",
   "execution_count": 14,
   "metadata": {},
   "outputs": [
    {
     "name": "stdout",
     "output_type": "stream",
     "text": [
      "Minimum over all maximum class gradient: 0.002144\n"
     ]
    }
   ],
   "source": [
    "class_gradient = classifier.class_gradient(x_init_average, y_all)\n",
    "# class_gradient = np.reshape(class_gradient, (30, 32*32))\n",
    "class_gradient = np.reshape(class_gradient, (3, 32*32))\n",
    "class_gradient_max = np.max(class_gradient, axis=1)\n",
    "\n",
    "print(\"Minimum over all maximum class gradient: %f\" % (np.min(class_gradient_max)))"
   ]
  },
  {
   "cell_type": "code",
   "execution_count": 15,
   "metadata": {},
   "outputs": [
    {
     "data": {
      "application/vnd.jupyter.widget-view+json": {
       "model_id": "8c6c1266d1f242f1938bd07ea7e50c89",
       "version_major": 2,
       "version_minor": 0
      },
      "text/plain": [
       "Model inversion:   0%|          | 0/1 [00:00<?, ?it/s]"
      ]
     },
     "metadata": {},
     "output_type": "display_data"
    }
   ],
   "source": [
    "inferred_images = my_attack.infer(x=x_init_average, y=y_all)"
   ]
  },
  {
   "cell_type": "code",
   "execution_count": 16,
   "metadata": {},
   "outputs": [
    {
     "name": "stdout",
     "output_type": "stream",
     "text": [
      "(1, 3, 32, 32)\n",
      "<class 'numpy.ndarray'>\n"
     ]
    }
   ],
   "source": [
    "print(inferred_images.shape)\n",
    "print(type(inferred_images))"
   ]
  },
  {
   "cell_type": "code",
   "execution_count": 17,
   "metadata": {},
   "outputs": [],
   "source": [
    "# plot the inverted class representations\n",
    "# num_row = 2\n",
    "# num_col = 5\n",
    "# fig, axes = plt.subplots(num_row, num_col, figsize=(1.5*num_col,2*num_row))\n",
    "# for i in range(10):\n",
    "#     ax = axes[i//num_col, i%num_col]\n",
    "#     ax.set_axis_off()\n",
    "#     ax.imshow(inferred_images[i,:,:,:].reshape(32,32,3))\n",
    "#     ax.set_title('Label: {}'.format(y_all[i]))\n",
    "\n",
    "# plt.tight_layout()\n",
    "# plt.savefig(\"/Users/songjunzhe/Desktop/python/ml_attack/celeba_result/myvgg11_miface_iter={}.png\".format(500))\n",
    "# plt.show()"
   ]
  },
  {
   "cell_type": "code",
   "execution_count": 18,
   "metadata": {},
   "outputs": [
    {
     "data": {
      "image/png": "[encoded data removed]",
      "image/svg+xml": "<?xml version=\"1.0\" encoding=\"utf-8\" standalone=\"no\"?>\n<!DOCTYPE svg PUBLIC \"-//W3C//DTD SVG 1.1//EN\"\n  \"http://www.w3.org/Graphics/SVG/1.1/DTD/svg11.dtd\">\n<svg xmlns:xlink=\"http://www.w3.org/1999/xlink\" width=\"136.1664pt\" height=\"136.1664pt\" viewBox=\"0 0 136.1664 136.1664\" xmlns=\"http://www.w3.org/2000/svg\" version=\"1.1\">\n <metadata>\n  <rdf:RDF xmlns:dc=\"http://purl.org/dc/elements/1.1/\" xmlns:cc=\"http://creativecommons.org/ns#\" xmlns:rdf=\"http://www.w3.org/1999/02/22-rdf-syntax-ns#\">\n   <cc:Work>\n    <dc:type rdf:resource=\"http://purl.org/dc/dcmitype/StillImage\"/>\n    <dc:date>2023-03-01T12:10:26.682278</dc:date>\n    <dc:format>image/svg+xml</dc:format>\n    <dc:creator>\n     <cc:Agent>\n      <dc:title>Matplotlib v3.5.2, https://matplotlib.org/</dc:title>\n     </cc:Agent>\n    </dc:creator>\n   </cc:Work>\n  </rdf:RDF>\n </metadata>\n <defs>\n  <style type=\"text/css\">*{stroke-linejoin: round; stroke-linecap: butt}</style>\n </defs>\n <g id=\"figure_1\">\n  <g id=\"axes_1\">\n   <g clip-path=\"url(#p36dd677fb5)\">\n    <image xlink:href=\"data:image/png;base64,\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\" id=\"image4c3d8a14a6\" transform=\"scale(1 -1)translate(0 -122.4)\" x=\"7.2\" y=\"-6.5664\" width=\"122.4\" height=\"122.4\"/>\n   </g>\n  </g>\n </g>\n <defs>\n  <clipPath id=\"p36dd677fb5\">\n   <rect x=\"7.2\" y=\"7.2\" width=\"121.7664\" height=\"121.7664\"/>\n  </clipPath>\n </defs>\n</svg>\n",
      "text/plain": [
       "<Figure size 224x224 with 1 Axes>"
      ]
     },
     "metadata": {
      "needs_background": "light"
     },
     "output_type": "display_data"
    }
   ],
   "source": [
    "plt.figure(figsize=(2.24, 2.24),dpi=100,frameon=False)\n",
    "plt.axis('off')\n",
    "img = plt.imshow(inferred_images[0].transpose(1,2,0))\n",
    "plt.savefig(\"/Users/songjunzhe/Desktop/python/ml_attack/celeba_result/myvgg11_miface_iter={},label=0.png\".format(20000))\n",
    "plt.show()"
   ]
  }
 ],
 "metadata": {
  "kernelspec": {
   "display_name": "Python 3",
   "language": "python",
   "name": "python3"
  },
  "language_info": {
   "codemirror_mode": {
    "name": "ipython",
    "version": 3
   },
   "file_extension": ".py",
   "mimetype": "text/x-python",
   "name": "python",
   "nbconvert_exporter": "python",
   "pygments_lexer": "ipython3",
   "version": "3.9.4"
  },
  "orig_nbformat": 4,
  "vscode": {
   "interpreter": {
    "hash": "aee8b7b246df8f9039afb4144a1f6fd8d2ca17a180786b69acc140d282b71a49"
   }
  }
 },
 "nbformat": 4,
 "nbformat_minor": 2
}
