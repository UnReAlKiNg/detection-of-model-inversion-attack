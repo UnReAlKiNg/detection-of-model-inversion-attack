{
 "cells": [
  {
   "cell_type": "code",
   "execution_count": 21,
   "metadata": {},
   "outputs": [],
   "source": [
    "import os\n",
    "import zipfile\n",
    "import pandas as pd\n",
    "import numpy as np\n",
    "from PIL import Image\n",
    "from glob import glob\n",
    "from tqdm import tqdm\n",
    "from pprint import pprint\n",
    "import matplotlib.pyplot as plt\n",
    "import time\n",
    "\n",
    "from collections import Sequence\n",
    "# %matplotlib inline\n",
    "import cv2\n",
    "\n",
    "from PIL import Image\n",
    "#import pickle5 as pickle\n",
    "\n",
    "import os.path as osp\n",
    "import matplotlib.cm as cm\n",
    "\n",
    "# ML libs\n",
    "import torchvision\n",
    "from torchvision import transforms\n",
    "from torchvision import models\n",
    "import torch\n",
    "from torch.autograd import Variable\n",
    "import torch.nn as nn\n",
    "from torch.optim import lr_scheduler\n",
    "from torch import optim\n",
    "from torchvision.utils import make_grid\n",
    "from torch.utils.data import Dataset\n",
    "from torch.nn import functional as F"
   ]
  },
  {
   "cell_type": "code",
   "execution_count": 22,
   "metadata": {},
   "outputs": [],
   "source": [
    "import ssl\n",
    "ssl._create_default_https_context = ssl._create_unverified_context"
   ]
  },
  {
   "attachments": {},
   "cell_type": "markdown",
   "metadata": {},
   "source": [
    "batch_size    learning_rate    num_epochs    train_acc    test_acc  \n",
    "64            0.0001           20            98.1200      74.5400 (adam)\n",
    "64            0.00001          20            96.3800      67.2400 (adam)\n",
    "64            0.0001           25            98.5680      74.5800 (adam)\n",
    "64            0.01             25            87.0360      74.1700 (SGD+scheduler)\n",
    "32            0.01             40            99.9680      82.0300 (SGD+scheduler)\n",
    "64            0.001            25            88.9740      74.3800 (SGD+momentum=0.9+scheduler)\n"
   ]
  },
  {
   "cell_type": "code",
   "execution_count": 23,
   "metadata": {},
   "outputs": [],
   "source": [
    "batch_size = 32\n",
    "#learning_rate = 0.0001\n",
    "num_epochs = 40"
   ]
  },
  {
   "cell_type": "code",
   "execution_count": 24,
   "metadata": {},
   "outputs": [],
   "source": [
    "transform = transforms.Compose([\n",
    "    transforms.Resize((32, 32)),\n",
    "    transforms.ToTensor(),\n",
    "    transforms.Normalize([0.485, 0.456, 0.406], [0.229, 0.224, 0.225])\n",
    "    # transforms.Normalize((0.5,0.5,0.5),(0.5,0.5,0.5))\n",
    "    ])"
   ]
  },
  {
   "cell_type": "code",
   "execution_count": 25,
   "metadata": {},
   "outputs": [
    {
     "name": "stdout",
     "output_type": "stream",
     "text": [
      "Files already downloaded and verified\n",
      "Files already downloaded and verified\n"
     ]
    }
   ],
   "source": [
    "trainset = torchvision.datasets.CIFAR10(root='./data', train=True, transform=transform, download=True)\n",
    "trainloader = torch.utils.data.DataLoader(trainset, batch_size=batch_size,\n",
    "                                            shuffle=True, num_workers=2)\n",
    "\n",
    "testset = torchvision.datasets.CIFAR10(root=\"./data\",train=False,transform=transform, download=True)\n",
    "testloader = torch.utils.data.DataLoader(testset, batch_size=batch_size,\n",
    "                                            shuffle=False, num_workers=2)"
   ]
  },
  {
   "cell_type": "code",
   "execution_count": 26,
   "metadata": {},
   "outputs": [
    {
     "name": "stdout",
     "output_type": "stream",
     "text": [
      "(50000, 32, 32, 3)\n"
     ]
    }
   ],
   "source": [
    "shape = trainloader.dataset.data.shape\n",
    "print(shape)"
   ]
  },
  {
   "cell_type": "code",
   "execution_count": 27,
   "metadata": {},
   "outputs": [],
   "source": [
    "device = torch.device('mps')\n",
    "myNet = torchvision.models.vgg11()\n",
    "myNet.classifier[6] = nn.Linear(in_features=4096, out_features=10, bias=True)\n",
    "myNet.to(device)\n",
    "\n",
    "# myNet = torch.load(\"/Users/songjunzhe/Desktop/python/ml_attack/myvgg11_cifar10_97_7240.pt\")\n",
    "# myNet.to(device)\n",
    "\n",
    "criterion = nn.CrossEntropyLoss()\n",
    "#optimizer = optim.Adam(myNet.parameters(), lr = learning_rate)\n",
    "optimizer = optim.SGD(myNet.parameters(), lr=0.01, weight_decay=5e-3, momentum=0.9)\n",
    "scheduler = optim.lr_scheduler.StepLR(optimizer=optimizer, step_size=5, gamma=0.4, last_epoch=-1)\n",
    "\n"
   ]
  },
  {
   "cell_type": "code",
   "execution_count": 28,
   "metadata": {},
   "outputs": [
    {
     "name": "stdout",
     "output_type": "stream",
     "text": [
      "myNet training\n",
      "\n"
     ]
    },
    {
     "name": "stderr",
     "output_type": "stream",
     "text": [
      "  0%|          | 0/40 [00:00<?, ?it/s]"
     ]
    },
    {
     "name": "stdout",
     "output_type": "stream",
     "text": [
      "Epoch [1/40], Step [100/1563], Loss: 2.1799\n",
      "Epoch [1/40], Step [200/1563], Loss: 1.9928\n",
      "Epoch [1/40], Step [300/1563], Loss: 2.1461\n",
      "Epoch [1/40], Step [400/1563], Loss: 1.7700\n",
      "Epoch [1/40], Step [500/1563], Loss: 1.7094\n",
      "Epoch [1/40], Step [600/1563], Loss: 1.4423\n",
      "Epoch [1/40], Step [700/1563], Loss: 1.6360\n",
      "Epoch [1/40], Step [800/1563], Loss: 1.5609\n",
      "Epoch [1/40], Step [900/1563], Loss: 1.4832\n",
      "Epoch [1/40], Step [1000/1563], Loss: 1.6533\n",
      "Epoch [1/40], Step [1100/1563], Loss: 1.5339\n",
      "Epoch [1/40], Step [1200/1563], Loss: 1.6360\n",
      "Epoch [1/40], Step [1300/1563], Loss: 1.2485\n",
      "Epoch [1/40], Step [1400/1563], Loss: 1.2846\n",
      "Epoch [1/40], Step [1500/1563], Loss: 1.2626\n"
     ]
    },
    {
     "name": "stderr",
     "output_type": "stream",
     "text": [
      "  2%|▎         | 1/40 [06:44<4:22:37, 404.03s/it]"
     ]
    },
    {
     "name": "stdout",
     "output_type": "stream",
     "text": [
      "Acc: 36.5880\n",
      "\n",
      "Epoch [2/40], Step [100/1563], Loss: 1.2242\n",
      "Epoch [2/40], Step [200/1563], Loss: 1.0205\n",
      "Epoch [2/40], Step [300/1563], Loss: 1.2813\n",
      "Epoch [2/40], Step [400/1563], Loss: 1.2353\n",
      "Epoch [2/40], Step [500/1563], Loss: 1.2175\n",
      "Epoch [2/40], Step [600/1563], Loss: 0.9993\n",
      "Epoch [2/40], Step [700/1563], Loss: 1.1917\n",
      "Epoch [2/40], Step [800/1563], Loss: 1.2654\n",
      "Epoch [2/40], Step [900/1563], Loss: 1.0278\n",
      "Epoch [2/40], Step [1000/1563], Loss: 0.9112\n",
      "Epoch [2/40], Step [1100/1563], Loss: 1.6848\n",
      "Epoch [2/40], Step [1200/1563], Loss: 1.3818\n",
      "Epoch [2/40], Step [1300/1563], Loss: 0.8171\n",
      "Epoch [2/40], Step [1400/1563], Loss: 1.0372\n",
      "Epoch [2/40], Step [1500/1563], Loss: 1.4853\n"
     ]
    },
    {
     "name": "stderr",
     "output_type": "stream",
     "text": [
      "  5%|▌         | 2/40 [13:24<4:14:23, 401.68s/it]"
     ]
    },
    {
     "name": "stdout",
     "output_type": "stream",
     "text": [
      "Acc: 55.0540\n",
      "\n",
      "Epoch [3/40], Step [100/1563], Loss: 1.0196\n",
      "Epoch [3/40], Step [200/1563], Loss: 1.1812\n",
      "Epoch [3/40], Step [300/1563], Loss: 1.1641\n",
      "Epoch [3/40], Step [400/1563], Loss: 0.9758\n",
      "Epoch [3/40], Step [500/1563], Loss: 0.7514\n",
      "Epoch [3/40], Step [600/1563], Loss: 0.8056\n",
      "Epoch [3/40], Step [700/1563], Loss: 1.2592\n",
      "Epoch [3/40], Step [800/1563], Loss: 1.0126\n",
      "Epoch [3/40], Step [900/1563], Loss: 1.0160\n",
      "Epoch [3/40], Step [1000/1563], Loss: 0.7050\n",
      "Epoch [3/40], Step [1100/1563], Loss: 1.4941\n",
      "Epoch [3/40], Step [1200/1563], Loss: 1.0215\n",
      "Epoch [3/40], Step [1300/1563], Loss: 0.7728\n",
      "Epoch [3/40], Step [1400/1563], Loss: 0.9199\n",
      "Epoch [3/40], Step [1500/1563], Loss: 0.7769\n"
     ]
    },
    {
     "name": "stderr",
     "output_type": "stream",
     "text": [
      "  8%|▊         | 3/40 [19:58<4:05:35, 398.25s/it]"
     ]
    },
    {
     "name": "stdout",
     "output_type": "stream",
     "text": [
      "Acc: 62.0720\n",
      "\n",
      "Epoch [4/40], Step [100/1563], Loss: 0.7520\n",
      "Epoch [4/40], Step [200/1563], Loss: 1.0376\n",
      "Epoch [4/40], Step [300/1563], Loss: 1.1433\n",
      "Epoch [4/40], Step [400/1563], Loss: 1.0685\n",
      "Epoch [4/40], Step [500/1563], Loss: 0.9191\n",
      "Epoch [4/40], Step [600/1563], Loss: 1.2345\n",
      "Epoch [4/40], Step [700/1563], Loss: 1.2297\n",
      "Epoch [4/40], Step [800/1563], Loss: 1.1390\n",
      "Epoch [4/40], Step [900/1563], Loss: 0.9772\n",
      "Epoch [4/40], Step [1000/1563], Loss: 0.9814\n",
      "Epoch [4/40], Step [1100/1563], Loss: 1.1466\n",
      "Epoch [4/40], Step [1200/1563], Loss: 0.6566\n",
      "Epoch [4/40], Step [1300/1563], Loss: 0.8921\n",
      "Epoch [4/40], Step [1400/1563], Loss: 1.0159\n",
      "Epoch [4/40], Step [1500/1563], Loss: 0.9138\n"
     ]
    },
    {
     "name": "stderr",
     "output_type": "stream",
     "text": [
      " 10%|█         | 4/40 [26:13<3:53:30, 389.19s/it]"
     ]
    },
    {
     "name": "stdout",
     "output_type": "stream",
     "text": [
      "Acc: 66.3200\n",
      "\n",
      "Epoch [5/40], Step [100/1563], Loss: 0.8876\n",
      "Epoch [5/40], Step [200/1563], Loss: 0.8497\n",
      "Epoch [5/40], Step [300/1563], Loss: 0.6598\n",
      "Epoch [5/40], Step [400/1563], Loss: 1.1005\n",
      "Epoch [5/40], Step [500/1563], Loss: 0.7485\n",
      "Epoch [5/40], Step [600/1563], Loss: 0.7890\n",
      "Epoch [5/40], Step [700/1563], Loss: 0.6976\n",
      "Epoch [5/40], Step [800/1563], Loss: 0.9585\n",
      "Epoch [5/40], Step [900/1563], Loss: 1.2272\n",
      "Epoch [5/40], Step [1000/1563], Loss: 0.7107\n",
      "Epoch [5/40], Step [1100/1563], Loss: 1.0914\n",
      "Epoch [5/40], Step [1200/1563], Loss: 0.7669\n",
      "Epoch [5/40], Step [1300/1563], Loss: 1.0321\n",
      "Epoch [5/40], Step [1400/1563], Loss: 0.8501\n",
      "Epoch [5/40], Step [1500/1563], Loss: 0.6908\n"
     ]
    },
    {
     "name": "stderr",
     "output_type": "stream",
     "text": [
      " 12%|█▎        | 5/40 [32:48<3:48:09, 391.13s/it]"
     ]
    },
    {
     "name": "stdout",
     "output_type": "stream",
     "text": [
      "Acc: 68.3120\n",
      "\n",
      "Epoch [6/40], Step [100/1563], Loss: 0.9355\n",
      "Epoch [6/40], Step [200/1563], Loss: 0.7258\n",
      "Epoch [6/40], Step [300/1563], Loss: 0.4451\n",
      "Epoch [6/40], Step [400/1563], Loss: 1.1224\n",
      "Epoch [6/40], Step [500/1563], Loss: 0.6449\n",
      "Epoch [6/40], Step [600/1563], Loss: 0.8072\n",
      "Epoch [6/40], Step [700/1563], Loss: 0.4347\n",
      "Epoch [6/40], Step [800/1563], Loss: 0.5147\n",
      "Epoch [6/40], Step [900/1563], Loss: 0.5984\n",
      "Epoch [6/40], Step [1000/1563], Loss: 0.7325\n",
      "Epoch [6/40], Step [1100/1563], Loss: 0.8116\n",
      "Epoch [6/40], Step [1200/1563], Loss: 0.7569\n",
      "Epoch [6/40], Step [1300/1563], Loss: 0.6248\n",
      "Epoch [6/40], Step [1400/1563], Loss: 0.6889\n",
      "Epoch [6/40], Step [1500/1563], Loss: 0.6011\n"
     ]
    },
    {
     "name": "stderr",
     "output_type": "stream",
     "text": [
      " 15%|█▌        | 6/40 [39:25<3:42:52, 393.30s/it]"
     ]
    },
    {
     "name": "stdout",
     "output_type": "stream",
     "text": [
      "Acc: 77.3340\n",
      "\n",
      "Epoch [7/40], Step [100/1563], Loss: 0.6056\n",
      "Epoch [7/40], Step [200/1563], Loss: 0.6521\n",
      "Epoch [7/40], Step [300/1563], Loss: 0.5070\n",
      "Epoch [7/40], Step [400/1563], Loss: 0.5384\n",
      "Epoch [7/40], Step [500/1563], Loss: 0.6841\n",
      "Epoch [7/40], Step [600/1563], Loss: 0.5022\n",
      "Epoch [7/40], Step [700/1563], Loss: 0.6298\n",
      "Epoch [7/40], Step [800/1563], Loss: 0.7562\n",
      "Epoch [7/40], Step [900/1563], Loss: 0.9034\n",
      "Epoch [7/40], Step [1000/1563], Loss: 0.5797\n",
      "Epoch [7/40], Step [1100/1563], Loss: 0.7219\n",
      "Epoch [7/40], Step [1200/1563], Loss: 0.8698\n",
      "Epoch [7/40], Step [1300/1563], Loss: 0.4642\n",
      "Epoch [7/40], Step [1400/1563], Loss: 0.5273\n",
      "Epoch [7/40], Step [1500/1563], Loss: 0.5547\n"
     ]
    },
    {
     "name": "stderr",
     "output_type": "stream",
     "text": [
      " 18%|█▊        | 7/40 [45:59<3:36:20, 393.34s/it]"
     ]
    },
    {
     "name": "stdout",
     "output_type": "stream",
     "text": [
      "Acc: 79.3160\n",
      "\n",
      "Epoch [8/40], Step [100/1563], Loss: 0.3708\n",
      "Epoch [8/40], Step [200/1563], Loss: 0.3592\n",
      "Epoch [8/40], Step [300/1563], Loss: 0.4474\n",
      "Epoch [8/40], Step [400/1563], Loss: 0.3996\n",
      "Epoch [8/40], Step [500/1563], Loss: 0.3853\n",
      "Epoch [8/40], Step [600/1563], Loss: 0.7821\n",
      "Epoch [8/40], Step [700/1563], Loss: 0.9444\n",
      "Epoch [8/40], Step [800/1563], Loss: 0.4930\n",
      "Epoch [8/40], Step [900/1563], Loss: 0.4426\n",
      "Epoch [8/40], Step [1000/1563], Loss: 0.8253\n",
      "Epoch [8/40], Step [1100/1563], Loss: 0.2937\n",
      "Epoch [8/40], Step [1200/1563], Loss: 0.6120\n",
      "Epoch [8/40], Step [1300/1563], Loss: 0.4850\n",
      "Epoch [8/40], Step [1400/1563], Loss: 0.4585\n",
      "Epoch [8/40], Step [1500/1563], Loss: 0.7722\n"
     ]
    },
    {
     "name": "stderr",
     "output_type": "stream",
     "text": [
      " 20%|██        | 8/40 [52:04<3:25:07, 384.60s/it]"
     ]
    },
    {
     "name": "stdout",
     "output_type": "stream",
     "text": [
      "Acc: 80.5380\n",
      "\n",
      "Epoch [9/40], Step [100/1563], Loss: 0.4208\n",
      "Epoch [9/40], Step [200/1563], Loss: 0.3651\n",
      "Epoch [9/40], Step [300/1563], Loss: 0.4293\n",
      "Epoch [9/40], Step [400/1563], Loss: 0.6642\n",
      "Epoch [9/40], Step [500/1563], Loss: 0.6341\n",
      "Epoch [9/40], Step [600/1563], Loss: 0.5237\n",
      "Epoch [9/40], Step [700/1563], Loss: 0.5703\n",
      "Epoch [9/40], Step [800/1563], Loss: 0.5303\n",
      "Epoch [9/40], Step [900/1563], Loss: 0.5215\n",
      "Epoch [9/40], Step [1000/1563], Loss: 0.6283\n",
      "Epoch [9/40], Step [1100/1563], Loss: 0.5727\n",
      "Epoch [9/40], Step [1200/1563], Loss: 0.4793\n",
      "Epoch [9/40], Step [1300/1563], Loss: 0.5872\n",
      "Epoch [9/40], Step [1400/1563], Loss: 0.5416\n",
      "Epoch [9/40], Step [1500/1563], Loss: 0.2112\n"
     ]
    },
    {
     "name": "stderr",
     "output_type": "stream",
     "text": [
      " 22%|██▎       | 9/40 [58:40<3:20:25, 387.90s/it]"
     ]
    },
    {
     "name": "stdout",
     "output_type": "stream",
     "text": [
      "Acc: 81.4160\n",
      "\n",
      "Epoch [10/40], Step [100/1563], Loss: 0.2941\n",
      "Epoch [10/40], Step [200/1563], Loss: 0.5520\n",
      "Epoch [10/40], Step [300/1563], Loss: 0.4935\n",
      "Epoch [10/40], Step [400/1563], Loss: 0.4287\n",
      "Epoch [10/40], Step [500/1563], Loss: 0.4596\n",
      "Epoch [10/40], Step [600/1563], Loss: 0.6600\n",
      "Epoch [10/40], Step [700/1563], Loss: 0.3696\n",
      "Epoch [10/40], Step [800/1563], Loss: 0.3545\n",
      "Epoch [10/40], Step [900/1563], Loss: 0.5977\n",
      "Epoch [10/40], Step [1000/1563], Loss: 0.4095\n",
      "Epoch [10/40], Step [1100/1563], Loss: 0.2134\n",
      "Epoch [10/40], Step [1200/1563], Loss: 0.6842\n",
      "Epoch [10/40], Step [1300/1563], Loss: 0.5717\n",
      "Epoch [10/40], Step [1400/1563], Loss: 0.3649\n",
      "Epoch [10/40], Step [1500/1563], Loss: 0.3220\n"
     ]
    },
    {
     "name": "stderr",
     "output_type": "stream",
     "text": [
      " 25%|██▌       | 10/40 [1:05:18<3:15:32, 391.10s/it]"
     ]
    },
    {
     "name": "stdout",
     "output_type": "stream",
     "text": [
      "Acc: 82.1540\n",
      "\n",
      "Epoch [11/40], Step [100/1563], Loss: 0.5642\n",
      "Epoch [11/40], Step [200/1563], Loss: 0.7124\n",
      "Epoch [11/40], Step [300/1563], Loss: 0.3343\n",
      "Epoch [11/40], Step [400/1563], Loss: 0.1544\n",
      "Epoch [11/40], Step [500/1563], Loss: 0.3771\n",
      "Epoch [11/40], Step [600/1563], Loss: 0.4211\n",
      "Epoch [11/40], Step [700/1563], Loss: 0.2982\n",
      "Epoch [11/40], Step [800/1563], Loss: 0.1437\n",
      "Epoch [11/40], Step [900/1563], Loss: 0.2514\n",
      "Epoch [11/40], Step [1000/1563], Loss: 0.2403\n",
      "Epoch [11/40], Step [1100/1563], Loss: 0.2895\n",
      "Epoch [11/40], Step [1200/1563], Loss: 0.2493\n",
      "Epoch [11/40], Step [1300/1563], Loss: 0.0945\n",
      "Epoch [11/40], Step [1400/1563], Loss: 0.5266\n",
      "Epoch [11/40], Step [1500/1563], Loss: 0.3182\n"
     ]
    },
    {
     "name": "stderr",
     "output_type": "stream",
     "text": [
      " 28%|██▊       | 11/40 [1:11:52<3:09:33, 392.17s/it]"
     ]
    },
    {
     "name": "stdout",
     "output_type": "stream",
     "text": [
      "Acc: 89.0200\n",
      "\n",
      "Epoch [12/40], Step [100/1563], Loss: 0.1720\n",
      "Epoch [12/40], Step [200/1563], Loss: 0.1859\n",
      "Epoch [12/40], Step [300/1563], Loss: 0.1423\n",
      "Epoch [12/40], Step [400/1563], Loss: 0.1062\n",
      "Epoch [12/40], Step [500/1563], Loss: 0.4225\n",
      "Epoch [12/40], Step [600/1563], Loss: 0.4574\n",
      "Epoch [12/40], Step [700/1563], Loss: 0.1618\n",
      "Epoch [12/40], Step [800/1563], Loss: 0.5197\n",
      "Epoch [12/40], Step [900/1563], Loss: 0.1973\n",
      "Epoch [12/40], Step [1000/1563], Loss: 0.5756\n",
      "Epoch [12/40], Step [1100/1563], Loss: 0.2377\n",
      "Epoch [12/40], Step [1200/1563], Loss: 0.3032\n",
      "Epoch [12/40], Step [1300/1563], Loss: 0.3265\n",
      "Epoch [12/40], Step [1400/1563], Loss: 0.1217\n",
      "Epoch [12/40], Step [1500/1563], Loss: 0.2065\n"
     ]
    },
    {
     "name": "stderr",
     "output_type": "stream",
     "text": [
      " 30%|███       | 12/40 [1:17:58<2:59:13, 384.06s/it]"
     ]
    },
    {
     "name": "stdout",
     "output_type": "stream",
     "text": [
      "Acc: 90.9220\n",
      "\n",
      "Epoch [13/40], Step [100/1563], Loss: 0.1210\n",
      "Epoch [13/40], Step [200/1563], Loss: 0.1992\n",
      "Epoch [13/40], Step [300/1563], Loss: 0.1695\n",
      "Epoch [13/40], Step [400/1563], Loss: 0.2149\n",
      "Epoch [13/40], Step [500/1563], Loss: 0.3062\n",
      "Epoch [13/40], Step [600/1563], Loss: 0.2485\n",
      "Epoch [13/40], Step [700/1563], Loss: 0.3833\n",
      "Epoch [13/40], Step [800/1563], Loss: 0.1853\n",
      "Epoch [13/40], Step [900/1563], Loss: 0.2956\n",
      "Epoch [13/40], Step [1000/1563], Loss: 0.0808\n",
      "Epoch [13/40], Step [1100/1563], Loss: 0.2854\n",
      "Epoch [13/40], Step [1200/1563], Loss: 0.1567\n",
      "Epoch [13/40], Step [1300/1563], Loss: 0.2338\n",
      "Epoch [13/40], Step [1400/1563], Loss: 0.1826\n",
      "Epoch [13/40], Step [1500/1563], Loss: 0.2631\n"
     ]
    },
    {
     "name": "stderr",
     "output_type": "stream",
     "text": [
      " 32%|███▎      | 13/40 [1:23:58<2:49:29, 376.66s/it]"
     ]
    },
    {
     "name": "stdout",
     "output_type": "stream",
     "text": [
      "Acc: 91.6300\n",
      "\n",
      "Epoch [14/40], Step [100/1563], Loss: 0.0645\n",
      "Epoch [14/40], Step [200/1563], Loss: 0.1888\n",
      "Epoch [14/40], Step [300/1563], Loss: 0.4152\n",
      "Epoch [14/40], Step [400/1563], Loss: 0.1501\n",
      "Epoch [14/40], Step [500/1563], Loss: 0.2178\n",
      "Epoch [14/40], Step [600/1563], Loss: 0.2240\n",
      "Epoch [14/40], Step [700/1563], Loss: 0.0518\n",
      "Epoch [14/40], Step [800/1563], Loss: 0.2297\n",
      "Epoch [14/40], Step [900/1563], Loss: 0.3317\n",
      "Epoch [14/40], Step [1000/1563], Loss: 0.2996\n",
      "Epoch [14/40], Step [1100/1563], Loss: 0.2030\n",
      "Epoch [14/40], Step [1200/1563], Loss: 0.2952\n",
      "Epoch [14/40], Step [1300/1563], Loss: 0.2137\n",
      "Epoch [14/40], Step [1400/1563], Loss: 0.1569\n",
      "Epoch [14/40], Step [1500/1563], Loss: 0.3473\n"
     ]
    },
    {
     "name": "stderr",
     "output_type": "stream",
     "text": [
      " 35%|███▌      | 14/40 [1:29:57<2:40:53, 371.30s/it]"
     ]
    },
    {
     "name": "stdout",
     "output_type": "stream",
     "text": [
      "Acc: 92.3520\n",
      "\n",
      "Epoch [15/40], Step [100/1563], Loss: 0.2576\n",
      "Epoch [15/40], Step [200/1563], Loss: 0.0848\n",
      "Epoch [15/40], Step [300/1563], Loss: 0.1116\n",
      "Epoch [15/40], Step [400/1563], Loss: 0.1098\n",
      "Epoch [15/40], Step [500/1563], Loss: 0.3336\n",
      "Epoch [15/40], Step [600/1563], Loss: 0.1474\n",
      "Epoch [15/40], Step [700/1563], Loss: 0.1605\n",
      "Epoch [15/40], Step [800/1563], Loss: 0.5019\n",
      "Epoch [15/40], Step [900/1563], Loss: 0.1214\n",
      "Epoch [15/40], Step [1000/1563], Loss: 0.1305\n",
      "Epoch [15/40], Step [1100/1563], Loss: 0.1391\n",
      "Epoch [15/40], Step [1200/1563], Loss: 0.3962\n",
      "Epoch [15/40], Step [1300/1563], Loss: 0.1920\n",
      "Epoch [15/40], Step [1400/1563], Loss: 0.3065\n",
      "Epoch [15/40], Step [1500/1563], Loss: 0.0841\n"
     ]
    },
    {
     "name": "stderr",
     "output_type": "stream",
     "text": [
      " 38%|███▊      | 15/40 [1:35:56<2:33:14, 367.77s/it]"
     ]
    },
    {
     "name": "stdout",
     "output_type": "stream",
     "text": [
      "Acc: 92.8760\n",
      "\n",
      "Epoch [16/40], Step [100/1563], Loss: 0.3081\n",
      "Epoch [16/40], Step [200/1563], Loss: 0.0815\n",
      "Epoch [16/40], Step [300/1563], Loss: 0.0740\n",
      "Epoch [16/40], Step [400/1563], Loss: 0.0439\n",
      "Epoch [16/40], Step [500/1563], Loss: 0.0549\n",
      "Epoch [16/40], Step [600/1563], Loss: 0.0798\n",
      "Epoch [16/40], Step [700/1563], Loss: 0.0111\n",
      "Epoch [16/40], Step [800/1563], Loss: 0.0296\n",
      "Epoch [16/40], Step [900/1563], Loss: 0.0289\n",
      "Epoch [16/40], Step [1000/1563], Loss: 0.1855\n",
      "Epoch [16/40], Step [1100/1563], Loss: 0.1000\n",
      "Epoch [16/40], Step [1200/1563], Loss: 0.0908\n",
      "Epoch [16/40], Step [1300/1563], Loss: 0.0523\n",
      "Epoch [16/40], Step [1400/1563], Loss: 0.0406\n",
      "Epoch [16/40], Step [1500/1563], Loss: 0.1446\n"
     ]
    },
    {
     "name": "stderr",
     "output_type": "stream",
     "text": [
      " 40%|████      | 16/40 [1:41:55<2:26:04, 365.17s/it]"
     ]
    },
    {
     "name": "stdout",
     "output_type": "stream",
     "text": [
      "Acc: 97.4300\n",
      "\n",
      "Epoch [17/40], Step [100/1563], Loss: 0.0300\n",
      "Epoch [17/40], Step [200/1563], Loss: 0.0591\n",
      "Epoch [17/40], Step [300/1563], Loss: 0.0305\n",
      "Epoch [17/40], Step [400/1563], Loss: 0.0792\n",
      "Epoch [17/40], Step [500/1563], Loss: 0.1812\n",
      "Epoch [17/40], Step [600/1563], Loss: 0.0687\n",
      "Epoch [17/40], Step [700/1563], Loss: 0.0766\n",
      "Epoch [17/40], Step [800/1563], Loss: 0.0868\n",
      "Epoch [17/40], Step [900/1563], Loss: 0.0285\n",
      "Epoch [17/40], Step [1000/1563], Loss: 0.0605\n",
      "Epoch [17/40], Step [1100/1563], Loss: 0.0221\n",
      "Epoch [17/40], Step [1200/1563], Loss: 0.0389\n",
      "Epoch [17/40], Step [1300/1563], Loss: 0.0292\n",
      "Epoch [17/40], Step [1400/1563], Loss: 0.0343\n",
      "Epoch [17/40], Step [1500/1563], Loss: 0.1074\n"
     ]
    },
    {
     "name": "stderr",
     "output_type": "stream",
     "text": [
      " 42%|████▎     | 17/40 [1:47:54<2:19:16, 363.33s/it]"
     ]
    },
    {
     "name": "stdout",
     "output_type": "stream",
     "text": [
      "Acc: 98.6120\n",
      "\n",
      "Epoch [18/40], Step [100/1563], Loss: 0.0371\n",
      "Epoch [18/40], Step [200/1563], Loss: 0.1416\n",
      "Epoch [18/40], Step [300/1563], Loss: 0.0450\n",
      "Epoch [18/40], Step [400/1563], Loss: 0.0155\n",
      "Epoch [18/40], Step [500/1563], Loss: 0.0192\n",
      "Epoch [18/40], Step [600/1563], Loss: 0.0208\n",
      "Epoch [18/40], Step [700/1563], Loss: 0.3146\n",
      "Epoch [18/40], Step [800/1563], Loss: 0.0326\n",
      "Epoch [18/40], Step [900/1563], Loss: 0.0559\n",
      "Epoch [18/40], Step [1000/1563], Loss: 0.0184\n",
      "Epoch [18/40], Step [1100/1563], Loss: 0.0222\n",
      "Epoch [18/40], Step [1200/1563], Loss: 0.0534\n",
      "Epoch [18/40], Step [1300/1563], Loss: 0.0332\n",
      "Epoch [18/40], Step [1400/1563], Loss: 0.1843\n",
      "Epoch [18/40], Step [1500/1563], Loss: 0.0697\n"
     ]
    },
    {
     "name": "stderr",
     "output_type": "stream",
     "text": [
      " 45%|████▌     | 18/40 [1:53:53<2:12:45, 362.08s/it]"
     ]
    },
    {
     "name": "stdout",
     "output_type": "stream",
     "text": [
      "Acc: 98.9060\n",
      "\n",
      "Epoch [19/40], Step [100/1563], Loss: 0.0154\n",
      "Epoch [19/40], Step [200/1563], Loss: 0.2027\n",
      "Epoch [19/40], Step [300/1563], Loss: 0.0116\n",
      "Epoch [19/40], Step [400/1563], Loss: 0.0155\n",
      "Epoch [19/40], Step [500/1563], Loss: 0.0188\n",
      "Epoch [19/40], Step [600/1563], Loss: 0.0183\n",
      "Epoch [19/40], Step [700/1563], Loss: 0.0259\n",
      "Epoch [19/40], Step [800/1563], Loss: 0.0248\n",
      "Epoch [19/40], Step [900/1563], Loss: 0.0367\n",
      "Epoch [19/40], Step [1000/1563], Loss: 0.0310\n",
      "Epoch [19/40], Step [1100/1563], Loss: 0.0179\n",
      "Epoch [19/40], Step [1200/1563], Loss: 0.0312\n",
      "Epoch [19/40], Step [1300/1563], Loss: 0.0199\n",
      "Epoch [19/40], Step [1400/1563], Loss: 0.0279\n",
      "Epoch [19/40], Step [1500/1563], Loss: 0.0295\n"
     ]
    },
    {
     "name": "stderr",
     "output_type": "stream",
     "text": [
      " 48%|████▊     | 19/40 [1:59:52<2:06:23, 361.13s/it]"
     ]
    },
    {
     "name": "stdout",
     "output_type": "stream",
     "text": [
      "Acc: 99.1400\n",
      "\n",
      "Epoch [20/40], Step [100/1563], Loss: 0.0048\n",
      "Epoch [20/40], Step [200/1563], Loss: 0.0081\n",
      "Epoch [20/40], Step [300/1563], Loss: 0.0127\n",
      "Epoch [20/40], Step [400/1563], Loss: 0.0087\n",
      "Epoch [20/40], Step [500/1563], Loss: 0.0133\n",
      "Epoch [20/40], Step [600/1563], Loss: 0.0208\n",
      "Epoch [20/40], Step [700/1563], Loss: 0.0202\n",
      "Epoch [20/40], Step [800/1563], Loss: 0.0345\n",
      "Epoch [20/40], Step [900/1563], Loss: 0.0574\n",
      "Epoch [20/40], Step [1000/1563], Loss: 0.0991\n",
      "Epoch [20/40], Step [1100/1563], Loss: 0.0880\n",
      "Epoch [20/40], Step [1200/1563], Loss: 0.0251\n",
      "Epoch [20/40], Step [1300/1563], Loss: 0.0173\n",
      "Epoch [20/40], Step [1400/1563], Loss: 0.0455\n",
      "Epoch [20/40], Step [1500/1563], Loss: 0.0185\n"
     ]
    },
    {
     "name": "stderr",
     "output_type": "stream",
     "text": [
      " 50%|█████     | 20/40 [2:06:00<2:00:58, 362.94s/it]"
     ]
    },
    {
     "name": "stdout",
     "output_type": "stream",
     "text": [
      "Acc: 99.2520\n",
      "\n",
      "Epoch [21/40], Step [100/1563], Loss: 0.0400\n",
      "Epoch [21/40], Step [200/1563], Loss: 0.0128\n",
      "Epoch [21/40], Step [300/1563], Loss: 0.0086\n",
      "Epoch [21/40], Step [400/1563], Loss: 0.0174\n",
      "Epoch [21/40], Step [500/1563], Loss: 0.1260\n",
      "Epoch [21/40], Step [600/1563], Loss: 0.0171\n",
      "Epoch [21/40], Step [700/1563], Loss: 0.0133\n",
      "Epoch [21/40], Step [800/1563], Loss: 0.0129\n",
      "Epoch [21/40], Step [900/1563], Loss: 0.0136\n",
      "Epoch [21/40], Step [1000/1563], Loss: 0.0698\n",
      "Epoch [21/40], Step [1100/1563], Loss: 0.0221\n",
      "Epoch [21/40], Step [1200/1563], Loss: 0.0358\n",
      "Epoch [21/40], Step [1300/1563], Loss: 0.0166\n",
      "Epoch [21/40], Step [1400/1563], Loss: 0.0188\n",
      "Epoch [21/40], Step [1500/1563], Loss: 0.0177\n"
     ]
    },
    {
     "name": "stderr",
     "output_type": "stream",
     "text": [
      " 52%|█████▎    | 21/40 [2:12:10<1:55:39, 365.22s/it]"
     ]
    },
    {
     "name": "stdout",
     "output_type": "stream",
     "text": [
      "Acc: 99.7820\n",
      "\n",
      "Epoch [22/40], Step [100/1563], Loss: 0.0187\n",
      "Epoch [22/40], Step [200/1563], Loss: 0.0171\n",
      "Epoch [22/40], Step [300/1563], Loss: 0.0194\n",
      "Epoch [22/40], Step [400/1563], Loss: 0.0163\n",
      "Epoch [22/40], Step [500/1563], Loss: 0.0392\n",
      "Epoch [22/40], Step [600/1563], Loss: 0.0171\n",
      "Epoch [22/40], Step [700/1563], Loss: 0.0379\n",
      "Epoch [22/40], Step [800/1563], Loss: 0.0248\n",
      "Epoch [22/40], Step [900/1563], Loss: 0.0378\n",
      "Epoch [22/40], Step [1000/1563], Loss: 0.0280\n",
      "Epoch [22/40], Step [1100/1563], Loss: 0.0133\n",
      "Epoch [22/40], Step [1200/1563], Loss: 0.0101\n",
      "Epoch [22/40], Step [1300/1563], Loss: 0.0100\n",
      "Epoch [22/40], Step [1400/1563], Loss: 0.0150\n",
      "Epoch [22/40], Step [1500/1563], Loss: 0.0207\n"
     ]
    },
    {
     "name": "stderr",
     "output_type": "stream",
     "text": [
      " 55%|█████▌    | 22/40 [2:18:26<1:50:29, 368.31s/it]"
     ]
    },
    {
     "name": "stdout",
     "output_type": "stream",
     "text": [
      "Acc: 99.8660\n",
      "\n",
      "Epoch [23/40], Step [100/1563], Loss: 0.0049\n",
      "Epoch [23/40], Step [200/1563], Loss: 0.0236\n",
      "Epoch [23/40], Step [300/1563], Loss: 0.0092\n",
      "Epoch [23/40], Step [400/1563], Loss: 0.0943\n",
      "Epoch [23/40], Step [500/1563], Loss: 0.0149\n",
      "Epoch [23/40], Step [600/1563], Loss: 0.0392\n",
      "Epoch [23/40], Step [700/1563], Loss: 0.0107\n",
      "Epoch [23/40], Step [800/1563], Loss: 0.0179\n",
      "Epoch [23/40], Step [900/1563], Loss: 0.0163\n",
      "Epoch [23/40], Step [1000/1563], Loss: 0.0098\n",
      "Epoch [23/40], Step [1100/1563], Loss: 0.0104\n",
      "Epoch [23/40], Step [1200/1563], Loss: 0.0145\n",
      "Epoch [23/40], Step [1300/1563], Loss: 0.0297\n",
      "Epoch [23/40], Step [1400/1563], Loss: 0.0079\n",
      "Epoch [23/40], Step [1500/1563], Loss: 0.0141\n"
     ]
    },
    {
     "name": "stderr",
     "output_type": "stream",
     "text": [
      " 57%|█████▊    | 23/40 [2:24:39<1:44:48, 369.89s/it]"
     ]
    },
    {
     "name": "stdout",
     "output_type": "stream",
     "text": [
      "Acc: 99.8660\n",
      "\n",
      "Epoch [24/40], Step [100/1563], Loss: 0.0264\n",
      "Epoch [24/40], Step [200/1563], Loss: 0.0038\n",
      "Epoch [24/40], Step [300/1563], Loss: 0.0046\n",
      "Epoch [24/40], Step [400/1563], Loss: 0.0237\n",
      "Epoch [24/40], Step [500/1563], Loss: 0.0191\n",
      "Epoch [24/40], Step [600/1563], Loss: 0.0264\n",
      "Epoch [24/40], Step [700/1563], Loss: 0.0271\n",
      "Epoch [24/40], Step [800/1563], Loss: 0.0171\n",
      "Epoch [24/40], Step [900/1563], Loss: 0.0282\n",
      "Epoch [24/40], Step [1000/1563], Loss: 0.0155\n",
      "Epoch [24/40], Step [1100/1563], Loss: 0.0183\n",
      "Epoch [24/40], Step [1200/1563], Loss: 0.0136\n",
      "Epoch [24/40], Step [1300/1563], Loss: 0.0086\n",
      "Epoch [24/40], Step [1400/1563], Loss: 0.0470\n",
      "Epoch [24/40], Step [1500/1563], Loss: 0.0163\n"
     ]
    },
    {
     "name": "stderr",
     "output_type": "stream",
     "text": [
      " 60%|██████    | 24/40 [2:30:55<1:39:05, 371.59s/it]"
     ]
    },
    {
     "name": "stdout",
     "output_type": "stream",
     "text": [
      "Acc: 99.9180\n",
      "\n",
      "Epoch [25/40], Step [100/1563], Loss: 0.0109\n",
      "Epoch [25/40], Step [200/1563], Loss: 0.0195\n",
      "Epoch [25/40], Step [300/1563], Loss: 0.0246\n",
      "Epoch [25/40], Step [400/1563], Loss: 0.0339\n",
      "Epoch [25/40], Step [500/1563], Loss: 0.0126\n",
      "Epoch [25/40], Step [600/1563], Loss: 0.0163\n",
      "Epoch [25/40], Step [700/1563], Loss: 0.0210\n",
      "Epoch [25/40], Step [800/1563], Loss: 0.0115\n",
      "Epoch [25/40], Step [900/1563], Loss: 0.0456\n",
      "Epoch [25/40], Step [1000/1563], Loss: 0.0210\n",
      "Epoch [25/40], Step [1100/1563], Loss: 0.0170\n",
      "Epoch [25/40], Step [1200/1563], Loss: 0.0081\n",
      "Epoch [25/40], Step [1300/1563], Loss: 0.0256\n",
      "Epoch [25/40], Step [1400/1563], Loss: 0.0292\n",
      "Epoch [25/40], Step [1500/1563], Loss: 0.0100\n"
     ]
    },
    {
     "name": "stderr",
     "output_type": "stream",
     "text": [
      " 62%|██████▎   | 25/40 [2:37:07<1:32:57, 371.82s/it]"
     ]
    },
    {
     "name": "stdout",
     "output_type": "stream",
     "text": [
      "Acc: 99.8880\n",
      "\n",
      "Epoch [26/40], Step [100/1563], Loss: 0.0115\n",
      "Epoch [26/40], Step [200/1563], Loss: 0.0116\n",
      "Epoch [26/40], Step [300/1563], Loss: 0.0156\n",
      "Epoch [26/40], Step [400/1563], Loss: 0.0122\n",
      "Epoch [26/40], Step [500/1563], Loss: 0.0199\n",
      "Epoch [26/40], Step [600/1563], Loss: 0.0214\n",
      "Epoch [26/40], Step [700/1563], Loss: 0.0234\n",
      "Epoch [26/40], Step [800/1563], Loss: 0.0126\n",
      "Epoch [26/40], Step [900/1563], Loss: 0.0216\n",
      "Epoch [26/40], Step [1000/1563], Loss: 0.0118\n",
      "Epoch [26/40], Step [1100/1563], Loss: 0.0131\n",
      "Epoch [26/40], Step [1200/1563], Loss: 0.0131\n",
      "Epoch [26/40], Step [1300/1563], Loss: 0.0141\n",
      "Epoch [26/40], Step [1400/1563], Loss: 0.0074\n",
      "Epoch [26/40], Step [1500/1563], Loss: 0.0109\n"
     ]
    },
    {
     "name": "stderr",
     "output_type": "stream",
     "text": [
      " 65%|██████▌   | 26/40 [2:43:25<1:27:10, 373.59s/it]"
     ]
    },
    {
     "name": "stdout",
     "output_type": "stream",
     "text": [
      "Acc: 99.9260\n",
      "\n",
      "Epoch [27/40], Step [100/1563], Loss: 0.0241\n",
      "Epoch [27/40], Step [200/1563], Loss: 0.0158\n",
      "Epoch [27/40], Step [300/1563], Loss: 0.0136\n",
      "Epoch [27/40], Step [400/1563], Loss: 0.0233\n",
      "Epoch [27/40], Step [500/1563], Loss: 0.0097\n",
      "Epoch [27/40], Step [600/1563], Loss: 0.0287\n",
      "Epoch [27/40], Step [700/1563], Loss: 0.0095\n",
      "Epoch [27/40], Step [800/1563], Loss: 0.0160\n",
      "Epoch [27/40], Step [900/1563], Loss: 0.0169\n",
      "Epoch [27/40], Step [1000/1563], Loss: 0.0138\n",
      "Epoch [27/40], Step [1100/1563], Loss: 0.0252\n",
      "Epoch [27/40], Step [1200/1563], Loss: 0.0139\n",
      "Epoch [27/40], Step [1300/1563], Loss: 0.0235\n",
      "Epoch [27/40], Step [1400/1563], Loss: 0.0349\n",
      "Epoch [27/40], Step [1500/1563], Loss: 0.0088\n"
     ]
    },
    {
     "name": "stderr",
     "output_type": "stream",
     "text": [
      " 68%|██████▊   | 27/40 [2:49:42<1:21:10, 374.63s/it]"
     ]
    },
    {
     "name": "stdout",
     "output_type": "stream",
     "text": [
      "Acc: 99.9440\n",
      "\n",
      "Epoch [28/40], Step [100/1563], Loss: 0.0165\n",
      "Epoch [28/40], Step [200/1563], Loss: 0.0313\n",
      "Epoch [28/40], Step [300/1563], Loss: 0.0190\n",
      "Epoch [28/40], Step [400/1563], Loss: 0.0122\n",
      "Epoch [28/40], Step [500/1563], Loss: 0.0087\n",
      "Epoch [28/40], Step [600/1563], Loss: 0.0116\n",
      "Epoch [28/40], Step [700/1563], Loss: 0.0201\n",
      "Epoch [28/40], Step [800/1563], Loss: 0.0124\n",
      "Epoch [28/40], Step [900/1563], Loss: 0.0147\n",
      "Epoch [28/40], Step [1000/1563], Loss: 0.0188\n",
      "Epoch [28/40], Step [1100/1563], Loss: 0.0117\n",
      "Epoch [28/40], Step [1200/1563], Loss: 0.0157\n",
      "Epoch [28/40], Step [1300/1563], Loss: 0.0163\n",
      "Epoch [28/40], Step [1400/1563], Loss: 0.0237\n",
      "Epoch [28/40], Step [1500/1563], Loss: 0.0152\n"
     ]
    },
    {
     "name": "stderr",
     "output_type": "stream",
     "text": [
      " 70%|███████   | 28/40 [2:55:56<1:14:54, 374.57s/it]"
     ]
    },
    {
     "name": "stdout",
     "output_type": "stream",
     "text": [
      "Acc: 99.9460\n",
      "\n",
      "Epoch [29/40], Step [100/1563], Loss: 0.0045\n",
      "Epoch [29/40], Step [200/1563], Loss: 0.0118\n",
      "Epoch [29/40], Step [300/1563], Loss: 0.0181\n",
      "Epoch [29/40], Step [400/1563], Loss: 0.0133\n",
      "Epoch [29/40], Step [500/1563], Loss: 0.0110\n",
      "Epoch [29/40], Step [600/1563], Loss: 0.0093\n",
      "Epoch [29/40], Step [700/1563], Loss: 0.0171\n",
      "Epoch [29/40], Step [800/1563], Loss: 0.0216\n",
      "Epoch [29/40], Step [900/1563], Loss: 0.0255\n",
      "Epoch [29/40], Step [1000/1563], Loss: 0.0100\n",
      "Epoch [29/40], Step [1100/1563], Loss: 0.0205\n",
      "Epoch [29/40], Step [1200/1563], Loss: 0.0128\n",
      "Epoch [29/40], Step [1300/1563], Loss: 0.0062\n",
      "Epoch [29/40], Step [1400/1563], Loss: 0.0208\n",
      "Epoch [29/40], Step [1500/1563], Loss: 0.0133\n"
     ]
    },
    {
     "name": "stderr",
     "output_type": "stream",
     "text": [
      " 72%|███████▎  | 29/40 [3:02:10<1:08:38, 374.38s/it]"
     ]
    },
    {
     "name": "stdout",
     "output_type": "stream",
     "text": [
      "Acc: 99.9380\n",
      "\n",
      "Epoch [30/40], Step [100/1563], Loss: 0.0230\n",
      "Epoch [30/40], Step [200/1563], Loss: 0.0150\n",
      "Epoch [30/40], Step [300/1563], Loss: 0.0176\n",
      "Epoch [30/40], Step [400/1563], Loss: 0.0274\n",
      "Epoch [30/40], Step [500/1563], Loss: 0.0233\n",
      "Epoch [30/40], Step [600/1563], Loss: 0.0350\n",
      "Epoch [30/40], Step [700/1563], Loss: 0.0123\n",
      "Epoch [30/40], Step [800/1563], Loss: 0.0105\n",
      "Epoch [30/40], Step [900/1563], Loss: 0.0276\n",
      "Epoch [30/40], Step [1000/1563], Loss: 0.0221\n",
      "Epoch [30/40], Step [1100/1563], Loss: 0.0118\n",
      "Epoch [30/40], Step [1200/1563], Loss: 0.0105\n",
      "Epoch [30/40], Step [1300/1563], Loss: 0.0235\n",
      "Epoch [30/40], Step [1400/1563], Loss: 0.0074\n",
      "Epoch [30/40], Step [1500/1563], Loss: 0.0097\n"
     ]
    },
    {
     "name": "stderr",
     "output_type": "stream",
     "text": [
      " 75%|███████▌  | 30/40 [3:08:26<1:02:27, 374.73s/it]"
     ]
    },
    {
     "name": "stdout",
     "output_type": "stream",
     "text": [
      "Acc: 99.9560\n",
      "\n",
      "Epoch [31/40], Step [100/1563], Loss: 0.0086\n",
      "Epoch [31/40], Step [200/1563], Loss: 0.0190\n",
      "Epoch [31/40], Step [300/1563], Loss: 0.0243\n",
      "Epoch [31/40], Step [400/1563], Loss: 0.0230\n",
      "Epoch [31/40], Step [500/1563], Loss: 0.0107\n",
      "Epoch [31/40], Step [600/1563], Loss: 0.0143\n",
      "Epoch [31/40], Step [700/1563], Loss: 0.0116\n",
      "Epoch [31/40], Step [800/1563], Loss: 0.0327\n",
      "Epoch [31/40], Step [900/1563], Loss: 0.0094\n",
      "Epoch [31/40], Step [1000/1563], Loss: 0.0346\n",
      "Epoch [31/40], Step [1100/1563], Loss: 0.0089\n",
      "Epoch [31/40], Step [1200/1563], Loss: 0.0178\n",
      "Epoch [31/40], Step [1300/1563], Loss: 0.0111\n",
      "Epoch [31/40], Step [1400/1563], Loss: 0.0241\n",
      "Epoch [31/40], Step [1500/1563], Loss: 0.0277\n"
     ]
    },
    {
     "name": "stderr",
     "output_type": "stream",
     "text": [
      " 78%|███████▊  | 31/40 [3:14:40<56:12, 374.70s/it]  "
     ]
    },
    {
     "name": "stdout",
     "output_type": "stream",
     "text": [
      "Acc: 99.9560\n",
      "\n",
      "Epoch [32/40], Step [100/1563], Loss: 0.0160\n",
      "Epoch [32/40], Step [200/1563], Loss: 0.0376\n",
      "Epoch [32/40], Step [300/1563], Loss: 0.0148\n",
      "Epoch [32/40], Step [400/1563], Loss: 0.0190\n",
      "Epoch [32/40], Step [500/1563], Loss: 0.0188\n",
      "Epoch [32/40], Step [600/1563], Loss: 0.0172\n",
      "Epoch [32/40], Step [700/1563], Loss: 0.0198\n",
      "Epoch [32/40], Step [800/1563], Loss: 0.0086\n",
      "Epoch [32/40], Step [900/1563], Loss: 0.0204\n",
      "Epoch [32/40], Step [1000/1563], Loss: 0.0086\n",
      "Epoch [32/40], Step [1100/1563], Loss: 0.0149\n",
      "Epoch [32/40], Step [1200/1563], Loss: 0.0146\n",
      "Epoch [32/40], Step [1300/1563], Loss: 0.0180\n",
      "Epoch [32/40], Step [1400/1563], Loss: 0.0162\n",
      "Epoch [32/40], Step [1500/1563], Loss: 0.0126\n"
     ]
    },
    {
     "name": "stderr",
     "output_type": "stream",
     "text": [
      " 80%|████████  | 32/40 [3:20:55<49:58, 374.76s/it]"
     ]
    },
    {
     "name": "stdout",
     "output_type": "stream",
     "text": [
      "Acc: 99.9500\n",
      "\n",
      "Epoch [33/40], Step [100/1563], Loss: 0.0199\n",
      "Epoch [33/40], Step [200/1563], Loss: 0.0108\n",
      "Epoch [33/40], Step [300/1563], Loss: 0.0119\n",
      "Epoch [33/40], Step [400/1563], Loss: 0.0215\n",
      "Epoch [33/40], Step [500/1563], Loss: 0.0083\n",
      "Epoch [33/40], Step [600/1563], Loss: 0.0070\n",
      "Epoch [33/40], Step [700/1563], Loss: 0.0111\n",
      "Epoch [33/40], Step [800/1563], Loss: 0.0148\n",
      "Epoch [33/40], Step [900/1563], Loss: 0.0152\n",
      "Epoch [33/40], Step [1000/1563], Loss: 0.0167\n",
      "Epoch [33/40], Step [1100/1563], Loss: 0.0218\n",
      "Epoch [33/40], Step [1200/1563], Loss: 0.0134\n",
      "Epoch [33/40], Step [1300/1563], Loss: 0.0095\n",
      "Epoch [33/40], Step [1400/1563], Loss: 0.0124\n",
      "Epoch [33/40], Step [1500/1563], Loss: 0.0441\n"
     ]
    },
    {
     "name": "stderr",
     "output_type": "stream",
     "text": [
      " 82%|████████▎ | 33/40 [3:27:29<44:22, 380.32s/it]"
     ]
    },
    {
     "name": "stdout",
     "output_type": "stream",
     "text": [
      "Acc: 99.9580\n",
      "\n",
      "Epoch [34/40], Step [100/1563], Loss: 0.0228\n",
      "Epoch [34/40], Step [200/1563], Loss: 0.0132\n",
      "Epoch [34/40], Step [300/1563], Loss: 0.0124\n",
      "Epoch [34/40], Step [400/1563], Loss: 0.0427\n",
      "Epoch [34/40], Step [500/1563], Loss: 0.0175\n",
      "Epoch [34/40], Step [600/1563], Loss: 0.0235\n",
      "Epoch [34/40], Step [700/1563], Loss: 0.0152\n",
      "Epoch [34/40], Step [800/1563], Loss: 0.0269\n",
      "Epoch [34/40], Step [900/1563], Loss: 0.0046\n",
      "Epoch [34/40], Step [1000/1563], Loss: 0.0060\n",
      "Epoch [34/40], Step [1100/1563], Loss: 0.0185\n",
      "Epoch [34/40], Step [1200/1563], Loss: 0.0249\n",
      "Epoch [34/40], Step [1300/1563], Loss: 0.0451\n",
      "Epoch [34/40], Step [1400/1563], Loss: 0.0128\n",
      "Epoch [34/40], Step [1500/1563], Loss: 0.0152\n"
     ]
    },
    {
     "name": "stderr",
     "output_type": "stream",
     "text": [
      " 85%|████████▌ | 34/40 [3:33:47<37:58, 379.71s/it]"
     ]
    },
    {
     "name": "stdout",
     "output_type": "stream",
     "text": [
      "Acc: 99.9660\n",
      "\n",
      "Epoch [35/40], Step [100/1563], Loss: 0.0103\n",
      "Epoch [35/40], Step [200/1563], Loss: 0.0225\n",
      "Epoch [35/40], Step [300/1563], Loss: 0.0175\n",
      "Epoch [35/40], Step [400/1563], Loss: 0.0108\n",
      "Epoch [35/40], Step [500/1563], Loss: 0.0280\n",
      "Epoch [35/40], Step [600/1563], Loss: 0.0125\n",
      "Epoch [35/40], Step [700/1563], Loss: 0.0176\n",
      "Epoch [35/40], Step [800/1563], Loss: 0.0065\n",
      "Epoch [35/40], Step [900/1563], Loss: 0.0117\n",
      "Epoch [35/40], Step [1000/1563], Loss: 0.0177\n",
      "Epoch [35/40], Step [1100/1563], Loss: 0.0455\n",
      "Epoch [35/40], Step [1200/1563], Loss: 0.0194\n",
      "Epoch [35/40], Step [1300/1563], Loss: 0.0113\n",
      "Epoch [35/40], Step [1400/1563], Loss: 0.0112\n",
      "Epoch [35/40], Step [1500/1563], Loss: 0.0344\n"
     ]
    },
    {
     "name": "stderr",
     "output_type": "stream",
     "text": [
      " 88%|████████▊ | 35/40 [3:39:49<31:12, 374.51s/it]"
     ]
    },
    {
     "name": "stdout",
     "output_type": "stream",
     "text": [
      "Acc: 99.9660\n",
      "\n",
      "Epoch [36/40], Step [100/1563], Loss: 0.0157\n",
      "Epoch [36/40], Step [200/1563], Loss: 0.0047\n",
      "Epoch [36/40], Step [300/1563], Loss: 0.0102\n",
      "Epoch [36/40], Step [400/1563], Loss: 0.0128\n",
      "Epoch [36/40], Step [500/1563], Loss: 0.0055\n",
      "Epoch [36/40], Step [600/1563], Loss: 0.0178\n",
      "Epoch [36/40], Step [700/1563], Loss: 0.0067\n",
      "Epoch [36/40], Step [800/1563], Loss: 0.0146\n",
      "Epoch [36/40], Step [900/1563], Loss: 0.0188\n",
      "Epoch [36/40], Step [1000/1563], Loss: 0.0129\n",
      "Epoch [36/40], Step [1100/1563], Loss: 0.0102\n",
      "Epoch [36/40], Step [1200/1563], Loss: 0.0070\n",
      "Epoch [36/40], Step [1300/1563], Loss: 0.0061\n",
      "Epoch [36/40], Step [1400/1563], Loss: 0.0164\n",
      "Epoch [36/40], Step [1500/1563], Loss: 0.0238\n"
     ]
    },
    {
     "name": "stderr",
     "output_type": "stream",
     "text": [
      " 90%|█████████ | 36/40 [3:46:03<24:56, 374.14s/it]"
     ]
    },
    {
     "name": "stdout",
     "output_type": "stream",
     "text": [
      "Acc: 99.9580\n",
      "\n",
      "Epoch [37/40], Step [100/1563], Loss: 0.0179\n",
      "Epoch [37/40], Step [200/1563], Loss: 0.0229\n",
      "Epoch [37/40], Step [300/1563], Loss: 0.0150\n",
      "Epoch [37/40], Step [400/1563], Loss: 0.0180\n",
      "Epoch [37/40], Step [500/1563], Loss: 0.0235\n",
      "Epoch [37/40], Step [600/1563], Loss: 0.0142\n",
      "Epoch [37/40], Step [700/1563], Loss: 0.0100\n",
      "Epoch [37/40], Step [800/1563], Loss: 0.0271\n",
      "Epoch [37/40], Step [900/1563], Loss: 0.0151\n",
      "Epoch [37/40], Step [1000/1563], Loss: 0.0294\n",
      "Epoch [37/40], Step [1100/1563], Loss: 0.0141\n",
      "Epoch [37/40], Step [1200/1563], Loss: 0.0288\n",
      "Epoch [37/40], Step [1300/1563], Loss: 0.0290\n",
      "Epoch [37/40], Step [1400/1563], Loss: 0.0115\n",
      "Epoch [37/40], Step [1500/1563], Loss: 0.0250\n"
     ]
    },
    {
     "name": "stderr",
     "output_type": "stream",
     "text": [
      " 92%|█████████▎| 37/40 [3:52:30<18:54, 378.09s/it]"
     ]
    },
    {
     "name": "stdout",
     "output_type": "stream",
     "text": [
      "Acc: 99.9580\n",
      "\n",
      "Epoch [38/40], Step [100/1563], Loss: 0.0138\n",
      "Epoch [38/40], Step [200/1563], Loss: 0.0141\n",
      "Epoch [38/40], Step [300/1563], Loss: 0.0140\n",
      "Epoch [38/40], Step [400/1563], Loss: 0.0169\n",
      "Epoch [38/40], Step [500/1563], Loss: 0.0108\n",
      "Epoch [38/40], Step [600/1563], Loss: 0.0118\n",
      "Epoch [38/40], Step [700/1563], Loss: 0.0211\n",
      "Epoch [38/40], Step [800/1563], Loss: 0.0106\n",
      "Epoch [38/40], Step [900/1563], Loss: 0.0150\n",
      "Epoch [38/40], Step [1000/1563], Loss: 0.0130\n",
      "Epoch [38/40], Step [1100/1563], Loss: 0.0335\n",
      "Epoch [38/40], Step [1200/1563], Loss: 0.0077\n",
      "Epoch [38/40], Step [1300/1563], Loss: 0.0140\n",
      "Epoch [38/40], Step [1400/1563], Loss: 0.0102\n",
      "Epoch [38/40], Step [1500/1563], Loss: 0.0268\n"
     ]
    },
    {
     "name": "stderr",
     "output_type": "stream",
     "text": [
      " 95%|█████████▌| 38/40 [3:59:02<12:44, 382.40s/it]"
     ]
    },
    {
     "name": "stdout",
     "output_type": "stream",
     "text": [
      "Acc: 99.9680\n",
      "\n",
      "Epoch [39/40], Step [100/1563], Loss: 0.0128\n",
      "Epoch [39/40], Step [200/1563], Loss: 0.0146\n",
      "Epoch [39/40], Step [300/1563], Loss: 0.0184\n",
      "Epoch [39/40], Step [400/1563], Loss: 0.0143\n",
      "Epoch [39/40], Step [500/1563], Loss: 0.0129\n",
      "Epoch [39/40], Step [600/1563], Loss: 0.0082\n",
      "Epoch [39/40], Step [700/1563], Loss: 0.0203\n",
      "Epoch [39/40], Step [800/1563], Loss: 0.0588\n",
      "Epoch [39/40], Step [900/1563], Loss: 0.0122\n",
      "Epoch [39/40], Step [1000/1563], Loss: 0.0084\n",
      "Epoch [39/40], Step [1100/1563], Loss: 0.0096\n",
      "Epoch [39/40], Step [1200/1563], Loss: 0.0138\n",
      "Epoch [39/40], Step [1300/1563], Loss: 0.0140\n",
      "Epoch [39/40], Step [1400/1563], Loss: 0.0221\n",
      "Epoch [39/40], Step [1500/1563], Loss: 0.0265\n"
     ]
    },
    {
     "name": "stderr",
     "output_type": "stream",
     "text": [
      " 98%|█████████▊| 39/40 [4:05:17<06:20, 380.03s/it]"
     ]
    },
    {
     "name": "stdout",
     "output_type": "stream",
     "text": [
      "Acc: 99.9560\n",
      "\n",
      "Epoch [40/40], Step [100/1563], Loss: 0.0095\n",
      "Epoch [40/40], Step [200/1563], Loss: 0.0073\n",
      "Epoch [40/40], Step [300/1563], Loss: 0.0176\n",
      "Epoch [40/40], Step [400/1563], Loss: 0.0283\n",
      "Epoch [40/40], Step [500/1563], Loss: 0.0156\n",
      "Epoch [40/40], Step [600/1563], Loss: 0.0201\n",
      "Epoch [40/40], Step [700/1563], Loss: 0.0190\n",
      "Epoch [40/40], Step [800/1563], Loss: 0.0132\n",
      "Epoch [40/40], Step [900/1563], Loss: 0.0096\n",
      "Epoch [40/40], Step [1000/1563], Loss: 0.0090\n",
      "Epoch [40/40], Step [1100/1563], Loss: 0.0090\n",
      "Epoch [40/40], Step [1200/1563], Loss: 0.0145\n",
      "Epoch [40/40], Step [1300/1563], Loss: 0.0205\n",
      "Epoch [40/40], Step [1400/1563], Loss: 0.0178\n",
      "Epoch [40/40], Step [1500/1563], Loss: 0.0160\n"
     ]
    },
    {
     "name": "stderr",
     "output_type": "stream",
     "text": [
      "100%|██████████| 40/40 [4:11:31<00:00, 377.29s/it]"
     ]
    },
    {
     "name": "stdout",
     "output_type": "stream",
     "text": [
      "Acc: 99.9680\n",
      "\n",
      "Finished Training\n"
     ]
    },
    {
     "name": "stderr",
     "output_type": "stream",
     "text": [
      "\n"
     ]
    }
   ],
   "source": [
    "print(\"myNet training\\n\")\n",
    "n_total_steps = len(trainloader)\n",
    "\n",
    "for epoch in tqdm(range(num_epochs)):\n",
    "    correct = 0\n",
    "    for i, (images, labels) in enumerate(trainloader):\n",
    "        # origin shape: [4, 3, 32, 32] = 4, 3, 1024\n",
    "        # input_layer: 3 input channels, 6 output channels, 5 kernel size\n",
    "        \n",
    "        images = images.to(device)\n",
    "        labels = labels.to(device)\n",
    "\n",
    "        # Forward pass\n",
    "        outputs = myNet(images)\n",
    "        loss = criterion(outputs, labels)\n",
    "        correct += (outputs.argmax(1) == labels).type(torch.float).sum().item()\n",
    "\n",
    "        # Backward and optimize\n",
    "        optimizer.zero_grad()\n",
    "        loss.backward()\n",
    "        optimizer.step()\n",
    "\n",
    "        # correct += (outputs == labels).float().sum()\n",
    "\n",
    "        if (i+1) % 100 == 0:\n",
    "            print (f'Epoch [{epoch+1}/{num_epochs}], Step [{i+1}/{n_total_steps}], Loss: {loss.item():.4f}')\n",
    "    correct /= len(trainloader.dataset)        \n",
    "    print(f\"Acc: {(100 * correct):>0.4f}\\n\")\n",
    "    scheduler.step()\n",
    "print('Finished Training')"
   ]
  },
  {
   "cell_type": "code",
   "execution_count": 29,
   "metadata": {},
   "outputs": [
    {
     "name": "stdout",
     "output_type": "stream",
     "text": [
      "myNet testing\n",
      "\n",
      "Test Accuracy: 82.0300\n",
      "\n"
     ]
    }
   ],
   "source": [
    "print(\"myNet testing\\n\")\n",
    "\n",
    "myNet.eval()\n",
    "\n",
    "size = len(testloader.dataset)\n",
    "correct = 0\n",
    "with torch.no_grad():\n",
    "    for i, (images, labels) in enumerate(testloader):\n",
    "        images = images.to(device)\n",
    "        labels = labels.to(device)\n",
    "        pred = myNet(images)\n",
    "        correct += (pred.argmax(1)==labels).type(torch.float).sum().item()\n",
    "    \n",
    "correct /= size\n",
    "print(f\"Test Accuracy: {(100 * correct):>0.4f}\\n\")"
   ]
  },
  {
   "cell_type": "code",
   "execution_count": 30,
   "metadata": {},
   "outputs": [],
   "source": [
    "myNet.to('cpu')\n",
    "torch.save(myNet,\"./myvgg11_cifar10.pt\")"
   ]
  }
 ],
 "metadata": {
  "kernelspec": {
   "display_name": "Python 3",
   "language": "python",
   "name": "python3"
  },
  "language_info": {
   "codemirror_mode": {
    "name": "ipython",
    "version": 3
   },
   "file_extension": ".py",
   "mimetype": "text/x-python",
   "name": "python",
   "nbconvert_exporter": "python",
   "pygments_lexer": "ipython3",
   "version": "3.9.4"
  },
  "orig_nbformat": 4,
  "vscode": {
   "interpreter": {
    "hash": "aee8b7b246df8f9039afb4144a1f6fd8d2ca17a180786b69acc140d282b71a49"
   }
  }
 },
 "nbformat": 4,
 "nbformat_minor": 2
}
